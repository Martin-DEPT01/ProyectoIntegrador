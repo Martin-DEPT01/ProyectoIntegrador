{
 "cells": [
  {
   "cell_type": "markdown",
   "id": "35f698dc",
   "metadata": {},
   "source": [
    "<h3 style=\"color:red;\">1. Crea un notebook, carga los csv. responde y justifica.</h3>"
   ]
  },
  {
   "cell_type": "code",
   "execution_count": 78,
   "id": "4519239c",
   "metadata": {},
   "outputs": [],
   "source": [
    "import pandas as pd\n",
    "\n",
    "\n",
    "# cargamos los .csv\n",
    "categories = pd.read_csv(r\"..\\data\\categories.csv\")\n",
    "cities = pd.read_csv(r\"..\\data\\cities.csv\")\n",
    "countries = pd.read_csv(r\"..\\data\\countries.csv\")\n",
    "customers = pd.read_csv(r\"..\\data\\customers.csv\")\n",
    "employees = pd.read_csv(r\"..\\data\\employees.csv\")\n",
    "products = pd.read_csv(r\"..\\data\\products.csv\")\n",
    "sales = pd.read_csv(r\"..\\data\\sales.csv\")"
   ]
  },
  {
   "cell_type": "markdown",
   "id": "8bdeb32d",
   "metadata": {},
   "source": [
    "Exploramos los datos de la tabla mas volumetrica"
   ]
  },
  {
   "cell_type": "code",
   "execution_count": 79,
   "id": "f036e570",
   "metadata": {},
   "outputs": [
    {
     "name": "stdout",
     "output_type": "stream",
     "text": [
      "<class 'pandas.core.frame.DataFrame'>\n",
      "RangeIndex: 6758125 entries, 0 to 6758124\n",
      "Data columns (total 9 columns):\n",
      " #   Column             Dtype  \n",
      "---  ------             -----  \n",
      " 0   SalesID            int64  \n",
      " 1   SalesPersonID      int64  \n",
      " 2   CustomerID         int64  \n",
      " 3   ProductID          int64  \n",
      " 4   Quantity           int64  \n",
      " 5   Discount           float64\n",
      " 6   TotalPrice         float64\n",
      " 7   SalesDate          object \n",
      " 8   TransactionNumber  object \n",
      "dtypes: float64(2), int64(5), object(2)\n",
      "memory usage: 464.0+ MB\n"
     ]
    }
   ],
   "source": [
    "sales.info()"
   ]
  },
  {
   "cell_type": "code",
   "execution_count": 80,
   "id": "8d4721a5",
   "metadata": {},
   "outputs": [
    {
     "data": {
      "application/vnd.microsoft.datawrangler.viewer.v0+json": {
       "columns": [
        {
         "name": "index",
         "rawType": "object",
         "type": "string"
        },
        {
         "name": "SalesID",
         "rawType": "float64",
         "type": "float"
        },
        {
         "name": "SalesPersonID",
         "rawType": "float64",
         "type": "float"
        },
        {
         "name": "CustomerID",
         "rawType": "float64",
         "type": "float"
        },
        {
         "name": "ProductID",
         "rawType": "float64",
         "type": "float"
        },
        {
         "name": "Quantity",
         "rawType": "float64",
         "type": "float"
        },
        {
         "name": "Discount",
         "rawType": "float64",
         "type": "float"
        },
        {
         "name": "TotalPrice",
         "rawType": "float64",
         "type": "float"
        }
       ],
       "ref": "815e3464-4307-4aeb-b4ed-5bf2730ab9ff",
       "rows": [
        [
         "count",
         "6758125.0",
         "6758125.0",
         "6758125.0",
         "6758125.0",
         "6758125.0",
         "6758125.0",
         "6758125.0"
        ],
        [
         "mean",
         "3379063.0",
         "11.99971663738093",
         "49395.666812910385",
         "226.5662916859336",
         "13.00400747248682",
         "0.029967868306667936",
         "0.0"
        ],
        [
         "std",
         "1950902.7883211318",
         "6.632689068268081",
         "28505.04276469773",
         "131.9969651934309",
         "7.209700714979732",
         "0.06398096176668665",
         "0.0"
        ],
        [
         "min",
         "1.0",
         "1.0",
         "1.0",
         "1.0",
         "1.0",
         "0.0",
         "0.0"
        ],
        [
         "25%",
         "1689532.0",
         "6.0",
         "24707.0",
         "114.0",
         "7.0",
         "0.0",
         "0.0"
        ],
        [
         "50%",
         "3379063.0",
         "12.0",
         "49414.0",
         "227.0",
         "13.0",
         "0.0",
         "0.0"
        ],
        [
         "75%",
         "5068594.0",
         "18.0",
         "74075.0",
         "340.0",
         "19.0",
         "0.0",
         "0.0"
        ],
        [
         "max",
         "6758125.0",
         "23.0",
         "98759.0",
         "41056.0",
         "25.0",
         "0.2",
         "0.0"
        ]
       ],
       "shape": {
        "columns": 7,
        "rows": 8
       }
      },
      "text/html": [
       "<div>\n",
       "<style scoped>\n",
       "    .dataframe tbody tr th:only-of-type {\n",
       "        vertical-align: middle;\n",
       "    }\n",
       "\n",
       "    .dataframe tbody tr th {\n",
       "        vertical-align: top;\n",
       "    }\n",
       "\n",
       "    .dataframe thead th {\n",
       "        text-align: right;\n",
       "    }\n",
       "</style>\n",
       "<table border=\"1\" class=\"dataframe\">\n",
       "  <thead>\n",
       "    <tr style=\"text-align: right;\">\n",
       "      <th></th>\n",
       "      <th>SalesID</th>\n",
       "      <th>SalesPersonID</th>\n",
       "      <th>CustomerID</th>\n",
       "      <th>ProductID</th>\n",
       "      <th>Quantity</th>\n",
       "      <th>Discount</th>\n",
       "      <th>TotalPrice</th>\n",
       "    </tr>\n",
       "  </thead>\n",
       "  <tbody>\n",
       "    <tr>\n",
       "      <th>count</th>\n",
       "      <td>6.758125e+06</td>\n",
       "      <td>6.758125e+06</td>\n",
       "      <td>6.758125e+06</td>\n",
       "      <td>6.758125e+06</td>\n",
       "      <td>6.758125e+06</td>\n",
       "      <td>6.758125e+06</td>\n",
       "      <td>6758125.0</td>\n",
       "    </tr>\n",
       "    <tr>\n",
       "      <th>mean</th>\n",
       "      <td>3.379063e+06</td>\n",
       "      <td>1.199972e+01</td>\n",
       "      <td>4.939567e+04</td>\n",
       "      <td>2.265663e+02</td>\n",
       "      <td>1.300401e+01</td>\n",
       "      <td>2.996787e-02</td>\n",
       "      <td>0.0</td>\n",
       "    </tr>\n",
       "    <tr>\n",
       "      <th>std</th>\n",
       "      <td>1.950903e+06</td>\n",
       "      <td>6.632689e+00</td>\n",
       "      <td>2.850504e+04</td>\n",
       "      <td>1.319970e+02</td>\n",
       "      <td>7.209701e+00</td>\n",
       "      <td>6.398096e-02</td>\n",
       "      <td>0.0</td>\n",
       "    </tr>\n",
       "    <tr>\n",
       "      <th>min</th>\n",
       "      <td>1.000000e+00</td>\n",
       "      <td>1.000000e+00</td>\n",
       "      <td>1.000000e+00</td>\n",
       "      <td>1.000000e+00</td>\n",
       "      <td>1.000000e+00</td>\n",
       "      <td>0.000000e+00</td>\n",
       "      <td>0.0</td>\n",
       "    </tr>\n",
       "    <tr>\n",
       "      <th>25%</th>\n",
       "      <td>1.689532e+06</td>\n",
       "      <td>6.000000e+00</td>\n",
       "      <td>2.470700e+04</td>\n",
       "      <td>1.140000e+02</td>\n",
       "      <td>7.000000e+00</td>\n",
       "      <td>0.000000e+00</td>\n",
       "      <td>0.0</td>\n",
       "    </tr>\n",
       "    <tr>\n",
       "      <th>50%</th>\n",
       "      <td>3.379063e+06</td>\n",
       "      <td>1.200000e+01</td>\n",
       "      <td>4.941400e+04</td>\n",
       "      <td>2.270000e+02</td>\n",
       "      <td>1.300000e+01</td>\n",
       "      <td>0.000000e+00</td>\n",
       "      <td>0.0</td>\n",
       "    </tr>\n",
       "    <tr>\n",
       "      <th>75%</th>\n",
       "      <td>5.068594e+06</td>\n",
       "      <td>1.800000e+01</td>\n",
       "      <td>7.407500e+04</td>\n",
       "      <td>3.400000e+02</td>\n",
       "      <td>1.900000e+01</td>\n",
       "      <td>0.000000e+00</td>\n",
       "      <td>0.0</td>\n",
       "    </tr>\n",
       "    <tr>\n",
       "      <th>max</th>\n",
       "      <td>6.758125e+06</td>\n",
       "      <td>2.300000e+01</td>\n",
       "      <td>9.875900e+04</td>\n",
       "      <td>4.105600e+04</td>\n",
       "      <td>2.500000e+01</td>\n",
       "      <td>2.000000e-01</td>\n",
       "      <td>0.0</td>\n",
       "    </tr>\n",
       "  </tbody>\n",
       "</table>\n",
       "</div>"
      ],
      "text/plain": [
       "            SalesID  SalesPersonID    CustomerID     ProductID      Quantity  \\\n",
       "count  6.758125e+06   6.758125e+06  6.758125e+06  6.758125e+06  6.758125e+06   \n",
       "mean   3.379063e+06   1.199972e+01  4.939567e+04  2.265663e+02  1.300401e+01   \n",
       "std    1.950903e+06   6.632689e+00  2.850504e+04  1.319970e+02  7.209701e+00   \n",
       "min    1.000000e+00   1.000000e+00  1.000000e+00  1.000000e+00  1.000000e+00   \n",
       "25%    1.689532e+06   6.000000e+00  2.470700e+04  1.140000e+02  7.000000e+00   \n",
       "50%    3.379063e+06   1.200000e+01  4.941400e+04  2.270000e+02  1.300000e+01   \n",
       "75%    5.068594e+06   1.800000e+01  7.407500e+04  3.400000e+02  1.900000e+01   \n",
       "max    6.758125e+06   2.300000e+01  9.875900e+04  4.105600e+04  2.500000e+01   \n",
       "\n",
       "           Discount  TotalPrice  \n",
       "count  6.758125e+06   6758125.0  \n",
       "mean   2.996787e-02         0.0  \n",
       "std    6.398096e-02         0.0  \n",
       "min    0.000000e+00         0.0  \n",
       "25%    0.000000e+00         0.0  \n",
       "50%    0.000000e+00         0.0  \n",
       "75%    0.000000e+00         0.0  \n",
       "max    2.000000e-01         0.0  "
      ]
     },
     "execution_count": 80,
     "metadata": {},
     "output_type": "execute_result"
    }
   ],
   "source": [
    "sales.describe()"
   ]
  },
  {
   "cell_type": "code",
   "execution_count": 81,
   "id": "4150ff2b",
   "metadata": {},
   "outputs": [
    {
     "data": {
      "application/vnd.microsoft.datawrangler.viewer.v0+json": {
       "columns": [
        {
         "name": "index",
         "rawType": "object",
         "type": "string"
        },
        {
         "name": "0",
         "rawType": "float64",
         "type": "float"
        }
       ],
       "ref": "35fe8082-683f-4357-9040-5ab0bedd4fa1",
       "rows": [
        [
         "SalesID",
         "0.0"
        ],
        [
         "SalesPersonID",
         "0.0"
        ],
        [
         "CustomerID",
         "0.0"
        ],
        [
         "ProductID",
         "0.0"
        ],
        [
         "Quantity",
         "0.0"
        ],
        [
         "Discount",
         "0.0"
        ],
        [
         "TotalPrice",
         "0.0"
        ],
        [
         "SalesDate",
         "0.9992"
        ],
        [
         "TransactionNumber",
         "0.0"
        ]
       ],
       "shape": {
        "columns": 1,
        "rows": 9
       }
      },
      "text/plain": [
       "SalesID              0.0000\n",
       "SalesPersonID        0.0000\n",
       "CustomerID           0.0000\n",
       "ProductID            0.0000\n",
       "Quantity             0.0000\n",
       "Discount             0.0000\n",
       "TotalPrice           0.0000\n",
       "SalesDate            0.9992\n",
       "TransactionNumber    0.0000\n",
       "dtype: float64"
      ]
     },
     "execution_count": 81,
     "metadata": {},
     "output_type": "execute_result"
    }
   ],
   "source": [
    "# verificamos valores nulos\n",
    "round(sales.isnull().sum()/len(sales) * 100, 4)"
   ]
  },
  {
   "cell_type": "markdown",
   "id": "71a43652",
   "metadata": {},
   "source": [
    "Como los valores nulos en SalesDate son solamente el 1% vamos a eliminar esas filas:"
   ]
  },
  {
   "cell_type": "code",
   "execution_count": 82,
   "id": "e4940f65",
   "metadata": {},
   "outputs": [
    {
     "data": {
      "application/vnd.microsoft.datawrangler.viewer.v0+json": {
       "columns": [
        {
         "name": "index",
         "rawType": "object",
         "type": "string"
        },
        {
         "name": "0",
         "rawType": "float64",
         "type": "float"
        }
       ],
       "ref": "01368f6a-2d90-4316-b915-b5a84c3b64fa",
       "rows": [
        [
         "SalesID",
         "0.0"
        ],
        [
         "SalesPersonID",
         "0.0"
        ],
        [
         "CustomerID",
         "0.0"
        ],
        [
         "ProductID",
         "0.0"
        ],
        [
         "Quantity",
         "0.0"
        ],
        [
         "Discount",
         "0.0"
        ],
        [
         "TotalPrice",
         "0.0"
        ],
        [
         "SalesDate",
         "0.0"
        ],
        [
         "TransactionNumber",
         "0.0"
        ]
       ],
       "shape": {
        "columns": 1,
        "rows": 9
       }
      },
      "text/plain": [
       "SalesID              0.0\n",
       "SalesPersonID        0.0\n",
       "CustomerID           0.0\n",
       "ProductID            0.0\n",
       "Quantity             0.0\n",
       "Discount             0.0\n",
       "TotalPrice           0.0\n",
       "SalesDate            0.0\n",
       "TransactionNumber    0.0\n",
       "dtype: float64"
      ]
     },
     "execution_count": 82,
     "metadata": {},
     "output_type": "execute_result"
    }
   ],
   "source": [
    "sales = sales.dropna(subset=[\"SalesDate\"])\n",
    "round(sales.isnull().sum()/len(sales) * 100, 4)"
   ]
  },
  {
   "cell_type": "code",
   "execution_count": 83,
   "id": "2d489082",
   "metadata": {},
   "outputs": [
    {
     "name": "stdout",
     "output_type": "stream",
     "text": [
      "Empty DataFrame\n",
      "Columns: [SalesID, SalesPersonID, CustomerID, ProductID, Quantity, Discount, TotalPrice, SalesDate, TransactionNumber]\n",
      "Index: []\n"
     ]
    }
   ],
   "source": [
    "print(sales[sales.duplicated()])"
   ]
  },
  {
   "cell_type": "markdown",
   "id": "0425b054",
   "metadata": {},
   "source": [
    "Observamos que no hay filas duplicadas en la tabla sales"
   ]
  },
  {
   "cell_type": "code",
   "execution_count": 84,
   "id": "7325942c",
   "metadata": {},
   "outputs": [
    {
     "name": "stdout",
     "output_type": "stream",
     "text": [
      "<class 'pandas.core.frame.DataFrame'>\n",
      "RangeIndex: 452 entries, 0 to 451\n",
      "Data columns (total 9 columns):\n",
      " #   Column        Non-Null Count  Dtype  \n",
      "---  ------        --------------  -----  \n",
      " 0   ProductID     452 non-null    int64  \n",
      " 1   ProductName   452 non-null    object \n",
      " 2   Price         452 non-null    float64\n",
      " 3   CategoryID    452 non-null    int64  \n",
      " 4   Class         452 non-null    object \n",
      " 5   ModifyDate    452 non-null    object \n",
      " 6   Resistant     452 non-null    object \n",
      " 7   IsAllergic    452 non-null    object \n",
      " 8   VitalityDays  452 non-null    int64  \n",
      "dtypes: float64(1), int64(3), object(5)\n",
      "memory usage: 31.9+ KB\n"
     ]
    }
   ],
   "source": [
    "products.info()"
   ]
  },
  {
   "cell_type": "markdown",
   "id": "fe5574ba",
   "metadata": {},
   "source": [
    "<h3 style=\"color:red;\">El campo TotalPrice en la tabla sales no tiene valores válidos. Utilizando la información de precios de la tabla products, </h3>\n",
    "<h3 style=\"color:red;\">calcula el valor real de la venta para cada registro y almacena en una nueva columna</h3>\n",
    "\n",
    "TotalPriceCalculated=(Quantity×UnitPrice)×(1−Discount)\n"
   ]
  },
  {
   "cell_type": "code",
   "execution_count": 85,
   "id": "184b4560",
   "metadata": {},
   "outputs": [
    {
     "data": {
      "application/vnd.microsoft.datawrangler.viewer.v0+json": {
       "columns": [
        {
         "name": "index",
         "rawType": "int64",
         "type": "integer"
        },
        {
         "name": "SalesID",
         "rawType": "int64",
         "type": "integer"
        },
        {
         "name": "SalesPersonID",
         "rawType": "int64",
         "type": "integer"
        },
        {
         "name": "CustomerID",
         "rawType": "int64",
         "type": "integer"
        },
        {
         "name": "ProductID",
         "rawType": "int64",
         "type": "integer"
        },
        {
         "name": "Quantity",
         "rawType": "int64",
         "type": "integer"
        },
        {
         "name": "Discount",
         "rawType": "float64",
         "type": "float"
        },
        {
         "name": "TotalPrice",
         "rawType": "float64",
         "type": "float"
        },
        {
         "name": "SalesDate",
         "rawType": "object",
         "type": "string"
        },
        {
         "name": "TransactionNumber",
         "rawType": "object",
         "type": "string"
        },
        {
         "name": "Price",
         "rawType": "float64",
         "type": "float"
        }
       ],
       "ref": "f7557cd0-6c3a-4918-bde0-a5b6b58a7c53",
       "rows": [
        [
         "0",
         "1",
         "6",
         "27039",
         "381",
         "7",
         "0.0",
         "0.0",
         "2018-02-05 07:38:25.430",
         "FQL4S94E4ME1EZFTG42G",
         "44.2337"
        ],
        [
         "1",
         "2",
         "16",
         "25011",
         "61",
         "7",
         "0.0",
         "0.0",
         "2018-02-02 16:03:31.150",
         "12UGLX40DJ1A5DTFBHB8",
         "62.546"
        ],
        [
         "2",
         "3",
         "13",
         "94024",
         "23",
         "24",
         "0.0",
         "0.0",
         "2018-05-03 19:31:56.880",
         "5DT8RCPL87KI5EORO7B0",
         "79.0184"
        ],
        [
         "3",
         "4",
         "8",
         "73966",
         "176",
         "19",
         "0.2",
         "0.0",
         "2018-04-07 14:43:55.420",
         "R3DR9MLD5NR76VO17ULE",
         "81.3167"
        ],
        [
         "4",
         "5",
         "10",
         "32653",
         "310",
         "9",
         "0.0",
         "0.0",
         "2018-02-12 15:37:03.940",
         "4BGS0Z5OMAZ8NDAFHHP3",
         "79.978"
        ],
        [
         "5",
         "6",
         "13",
         "28663",
         "413",
         "8",
         "0.0",
         "0.0",
         "2018-02-07 10:33:24.990",
         "3KTAYIZPGDQMZMRWZ8NG",
         "95.4065"
        ],
        [
         "6",
         "7",
         "14",
         "46674",
         "370",
         "12",
         "0.0",
         "0.0",
         "2018-03-02 23:09:58.750",
         "ICRZIHELQCVB71RNH1G5",
         "21.8806"
        ],
        [
         "7",
         "8",
         "3",
         "12687",
         "287",
         "4",
         "0.2",
         "0.0",
         "2018-01-17 13:41:38.460",
         "6X9MOQIJH92NIK81BG0K",
         "57.709"
        ],
        [
         "8",
         "9",
         "16",
         "89009",
         "124",
         "23",
         "0.0",
         "0.0",
         "2018-04-27 06:19:58.570",
         "P0UARL09H66APBEIDUQW",
         "18.2891"
        ],
        [
         "9",
         "10",
         "22",
         "65017",
         "346",
         "17",
         "0.2",
         "0.0",
         "2018-03-26 22:12:08.530",
         "92TNPGIL6LFKVGWFBW5H",
         "17.1914"
        ],
        [
         "10",
         "11",
         "5",
         "67670",
         "405",
         "18",
         "0.2",
         "0.0",
         "2018-03-30 09:23:05.370",
         "Z2WDS9TJXLAO1GY0N24I",
         "0.4278"
        ],
        [
         "11",
         "12",
         "17",
         "28353",
         "285",
         "8",
         "0.0",
         "0.0",
         "2018-02-07 00:50:06.000",
         "BLQPUVH22XKER90WAW7P",
         "71.8302"
        ],
        [
         "12",
         "13",
         "22",
         "29082",
         "162",
         "8",
         "0.2",
         "0.0",
         "2018-02-07 23:40:36.820",
         "8Z5WT0YENU1ZMOH5NYEB",
         "2.7353"
        ],
        [
         "13",
         "14",
         "7",
         "33133",
         "406",
         "9",
         "0.0",
         "0.0",
         "2018-02-13 06:39:51.960",
         "VOP9A7Y4C5XSM2LLT0UJ",
         "89.7999"
        ],
        [
         "14",
         "15",
         "19",
         "19310",
         "134",
         "5",
         "0.0",
         "0.0",
         "2018-01-26 05:20:52.510",
         "E2JF4LIQNYTDKDBGMJS0",
         "39.8545"
        ],
        [
         "15",
         "16",
         "16",
         "91867",
         "364",
         "24",
         "0.0",
         "0.0",
         "2018-04-30 23:55:11.560",
         "AO360LVKUYJSSGL5T5MF",
         "8.8429"
        ],
        [
         "16",
         "17",
         "8",
         "14612",
         "185",
         "4",
         "0.0",
         "0.0",
         "2018-01-20 02:02:39.460",
         "P73F1OA46H2JE3EF83ZM",
         "48.4195"
        ],
        [
         "17",
         "18",
         "17",
         "96120",
         "377",
         "25",
         "0.1",
         "0.0",
         "2018-05-06 13:15:34.750",
         "S09LSXPASD6KXLHZRZWL",
         "75.0785"
        ],
        [
         "18",
         "19",
         "23",
         "2657",
         "49",
         "1",
         "0.0",
         "0.0",
         "2018-01-04 11:17:04.600",
         "NGH8EC7PL1MS7W6UT8RL",
         "61.4317"
        ],
        [
         "19",
         "20",
         "18",
         "51200",
         "308",
         "13",
         "0.0",
         "0.0",
         "2018-03-08 21:02:34.480",
         "D3VYGIWGH421Q5JSCEKI",
         "88.1209"
        ],
        [
         "20",
         "21",
         "16",
         "91382",
         "147",
         "24",
         "0.0",
         "0.0",
         "2018-04-30 08:42:49.010",
         "7BKSQOA5XQ50L9DLAXUB",
         "49.6197"
        ],
        [
         "21",
         "22",
         "18",
         "23677",
         "442",
         "6",
         "0.0",
         "0.0",
         "2018-01-31 22:14:45.630",
         "3XJQHRN1HU7295SB6QUL",
         "72.9041"
        ],
        [
         "22",
         "23",
         "1",
         "35389",
         "392",
         "9",
         "0.0",
         "0.0",
         "2018-02-16 05:23:12.380",
         "KDX14V662HP7B4E019WN",
         "98.8263"
        ],
        [
         "23",
         "24",
         "23",
         "66030",
         "324",
         "17",
         "0.0",
         "0.0",
         "2018-03-28 05:56:50.450",
         "FWXXB3LA360PZJJMPCVH",
         "87.9023"
        ],
        [
         "24",
         "25",
         "7",
         "45384",
         "341",
         "12",
         "0.0",
         "0.0",
         "2018-03-01 06:42:59.620",
         "EDHVY1DB5HXY64GZ4SRK",
         "90.2641"
        ],
        [
         "25",
         "26",
         "14",
         "87577",
         "369",
         "23",
         "0.0",
         "0.0",
         "2018-04-25 09:27:01.180",
         "YAPHCKUECW0590JG1D27",
         "87.1785"
        ],
        [
         "26",
         "27",
         "10",
         "14848",
         "330",
         "4",
         "0.0",
         "0.0",
         "2018-01-20 09:27:33.630",
         "YO2QTF3MKJ4WYG2REMGJ",
         "18.7914"
        ],
        [
         "27",
         "28",
         "6",
         "45482",
         "145",
         "12",
         "0.2",
         "0.0",
         "2018-03-01 09:47:42.980",
         "SLWSW3WJ3EPDX0LNQI5R",
         "34.4139"
        ],
        [
         "28",
         "29",
         "11",
         "655",
         "378",
         "1",
         "0.0",
         "0.0",
         "2018-01-01 20:31:36.660",
         "RDW9BKHONRLN1536YWB6",
         "90.7877"
        ],
        [
         "29",
         "30",
         "4",
         "77357",
         "91",
         "20",
         "0.0",
         "0.0",
         "2018-04-12 01:03:54.130",
         "H4EI0FH4N3BS518ZJLIF",
         "57.0429"
        ],
        [
         "30",
         "31",
         "4",
         "87441",
         "449",
         "23",
         "0.0",
         "0.0",
         "2018-04-25 05:10:14.730",
         "GM4PVVHGSLUKOA8IQA5Z",
         "42.1414"
        ],
        [
         "31",
         "32",
         "22",
         "47694",
         "124",
         "13",
         "0.2",
         "0.0",
         "2018-03-04 07:09:32.220",
         "ZOAVW4V6EBSQ71HAT5KZ",
         "18.2891"
        ],
        [
         "32",
         "33",
         "15",
         "43145",
         "291",
         "11",
         "0.0",
         "0.0",
         "2018-02-26 08:31:57.410",
         "VHG7GQZHTADFBGYTTZQM",
         "1.2559"
        ],
        [
         "33",
         "34",
         "4",
         "17875",
         "116",
         "5",
         "0.0",
         "0.0",
         "2018-01-24 08:21:21.770",
         "DA1UH9Q7X5K0V47TOFDV",
         "5.736"
        ],
        [
         "34",
         "35",
         "2",
         "75421",
         "367",
         "20",
         "0.1",
         "0.0",
         "2018-04-09 12:21:05.650",
         "L1FAVKJGZ6TDDH7FDZG9",
         "63.8281"
        ],
        [
         "35",
         "36",
         "3",
         "19823",
         "150",
         "6",
         "0.0",
         "0.0",
         "2018-01-26 21:25:08.970",
         "V5SFGCR05JCQLR9LJLP7",
         "40.6552"
        ],
        [
         "36",
         "37",
         "20",
         "51149",
         "2",
         "13",
         "0.0",
         "0.0",
         "2018-03-08 19:26:35.240",
         "XZRNIM0DAGWMEPVMVF7S",
         "91.2329"
        ],
        [
         "37",
         "38",
         "9",
         "70699",
         "344",
         "18",
         "0.0",
         "0.0",
         "2018-04-03 08:19:04.710",
         "TMGMRPXTUDR2JY61RYQQ",
         "63.5389"
        ],
        [
         "38",
         "39",
         "7",
         "61998",
         "64",
         "16",
         "0.0",
         "0.0",
         "2018-03-22 23:34:27.960",
         "V3F371DYN6HEA3CA0QW2",
         "16.5229"
        ],
        [
         "39",
         "40",
         "3",
         "22037",
         "419",
         "6",
         "0.0",
         "0.0",
         "2018-01-29 18:49:24.100",
         "G25KURPL4HH1TYI0IKNK",
         "86.1338"
        ],
        [
         "40",
         "41",
         "17",
         "23796",
         "246",
         "7",
         "0.0",
         "0.0",
         "2018-02-01 01:58:03.850",
         "77AN9UTRQ7TO2E1AJCAN",
         "48.5371"
        ],
        [
         "41",
         "42",
         "14",
         "13389",
         "439",
         "4",
         "0.0",
         "0.0",
         "2018-01-18 11:43:12.190",
         "JP0DG5U9H58IP9VVWLXW",
         "56.0919"
        ],
        [
         "42",
         "43",
         "15",
         "74923",
         "215",
         "19",
         "0.0",
         "0.0",
         "2018-04-08 20:45:29.430",
         "D9ODQJHQZ8DWHOI9ASOY",
         "90.1157"
        ],
        [
         "43",
         "44",
         "12",
         "69666",
         "21",
         "18",
         "0.0",
         "0.0",
         "2018-04-01 23:56:54.750",
         "81K6D55FNQCRI5FBZPLC",
         "46.7252"
        ],
        [
         "44",
         "45",
         "5",
         "26337",
         "384",
         "7",
         "0.0",
         "0.0",
         "2018-02-04 09:37:10.270",
         "IXVL7LCLLS8XC4736CEB",
         "56.5197"
        ],
        [
         "45",
         "46",
         "13",
         "28160",
         "420",
         "8",
         "0.1",
         "0.0",
         "2018-02-06 18:45:37.340",
         "BH05YI2YA23MYQ4PK6KS",
         "69.9163"
        ],
        [
         "46",
         "47",
         "5",
         "86775",
         "407",
         "22",
         "0.0",
         "0.0",
         "2018-04-24 08:17:50.060",
         "1X4T6187SC7087FUG82A",
         "69.7674"
        ],
        [
         "47",
         "48",
         "16",
         "68391",
         "335",
         "18",
         "0.0",
         "0.0",
         "2018-03-31 07:58:37.110",
         "AP5BEE3EM6TIGAJWBSGT",
         "18.4231"
        ],
        [
         "48",
         "49",
         "18",
         "93402",
         "108",
         "24",
         "0.0",
         "0.0",
         "2018-05-03 00:03:35.620",
         "IPVLPJOV4XHI7Q8ZIRN4",
         "79.0038"
        ],
        [
         "49",
         "50",
         "21",
         "16869",
         "257",
         "5",
         "0.0",
         "0.0",
         "2018-01-23 00:49:20.470",
         "66EHSWVX5FLHWSZ9POVF",
         "84.438"
        ]
       ],
       "shape": {
        "columns": 10,
        "rows": 6690599
       }
      },
      "text/html": [
       "<div>\n",
       "<style scoped>\n",
       "    .dataframe tbody tr th:only-of-type {\n",
       "        vertical-align: middle;\n",
       "    }\n",
       "\n",
       "    .dataframe tbody tr th {\n",
       "        vertical-align: top;\n",
       "    }\n",
       "\n",
       "    .dataframe thead th {\n",
       "        text-align: right;\n",
       "    }\n",
       "</style>\n",
       "<table border=\"1\" class=\"dataframe\">\n",
       "  <thead>\n",
       "    <tr style=\"text-align: right;\">\n",
       "      <th></th>\n",
       "      <th>SalesID</th>\n",
       "      <th>SalesPersonID</th>\n",
       "      <th>CustomerID</th>\n",
       "      <th>ProductID</th>\n",
       "      <th>Quantity</th>\n",
       "      <th>Discount</th>\n",
       "      <th>TotalPrice</th>\n",
       "      <th>SalesDate</th>\n",
       "      <th>TransactionNumber</th>\n",
       "      <th>Price</th>\n",
       "    </tr>\n",
       "  </thead>\n",
       "  <tbody>\n",
       "    <tr>\n",
       "      <th>0</th>\n",
       "      <td>1</td>\n",
       "      <td>6</td>\n",
       "      <td>27039</td>\n",
       "      <td>381</td>\n",
       "      <td>7</td>\n",
       "      <td>0.0</td>\n",
       "      <td>0.0</td>\n",
       "      <td>2018-02-05 07:38:25.430</td>\n",
       "      <td>FQL4S94E4ME1EZFTG42G</td>\n",
       "      <td>44.2337</td>\n",
       "    </tr>\n",
       "    <tr>\n",
       "      <th>1</th>\n",
       "      <td>2</td>\n",
       "      <td>16</td>\n",
       "      <td>25011</td>\n",
       "      <td>61</td>\n",
       "      <td>7</td>\n",
       "      <td>0.0</td>\n",
       "      <td>0.0</td>\n",
       "      <td>2018-02-02 16:03:31.150</td>\n",
       "      <td>12UGLX40DJ1A5DTFBHB8</td>\n",
       "      <td>62.5460</td>\n",
       "    </tr>\n",
       "    <tr>\n",
       "      <th>2</th>\n",
       "      <td>3</td>\n",
       "      <td>13</td>\n",
       "      <td>94024</td>\n",
       "      <td>23</td>\n",
       "      <td>24</td>\n",
       "      <td>0.0</td>\n",
       "      <td>0.0</td>\n",
       "      <td>2018-05-03 19:31:56.880</td>\n",
       "      <td>5DT8RCPL87KI5EORO7B0</td>\n",
       "      <td>79.0184</td>\n",
       "    </tr>\n",
       "    <tr>\n",
       "      <th>3</th>\n",
       "      <td>4</td>\n",
       "      <td>8</td>\n",
       "      <td>73966</td>\n",
       "      <td>176</td>\n",
       "      <td>19</td>\n",
       "      <td>0.2</td>\n",
       "      <td>0.0</td>\n",
       "      <td>2018-04-07 14:43:55.420</td>\n",
       "      <td>R3DR9MLD5NR76VO17ULE</td>\n",
       "      <td>81.3167</td>\n",
       "    </tr>\n",
       "    <tr>\n",
       "      <th>4</th>\n",
       "      <td>5</td>\n",
       "      <td>10</td>\n",
       "      <td>32653</td>\n",
       "      <td>310</td>\n",
       "      <td>9</td>\n",
       "      <td>0.0</td>\n",
       "      <td>0.0</td>\n",
       "      <td>2018-02-12 15:37:03.940</td>\n",
       "      <td>4BGS0Z5OMAZ8NDAFHHP3</td>\n",
       "      <td>79.9780</td>\n",
       "    </tr>\n",
       "    <tr>\n",
       "      <th>...</th>\n",
       "      <td>...</td>\n",
       "      <td>...</td>\n",
       "      <td>...</td>\n",
       "      <td>...</td>\n",
       "      <td>...</td>\n",
       "      <td>...</td>\n",
       "      <td>...</td>\n",
       "      <td>...</td>\n",
       "      <td>...</td>\n",
       "      <td>...</td>\n",
       "    </tr>\n",
       "    <tr>\n",
       "      <th>6690594</th>\n",
       "      <td>6758121</td>\n",
       "      <td>10</td>\n",
       "      <td>50938</td>\n",
       "      <td>300</td>\n",
       "      <td>13</td>\n",
       "      <td>0.0</td>\n",
       "      <td>0.0</td>\n",
       "      <td>2018-04-20 22:39:03.150</td>\n",
       "      <td>AHVBHVO7632V5YYD2VJT</td>\n",
       "      <td>69.5694</td>\n",
       "    </tr>\n",
       "    <tr>\n",
       "      <th>6690595</th>\n",
       "      <td>6758122</td>\n",
       "      <td>18</td>\n",
       "      <td>85668</td>\n",
       "      <td>452</td>\n",
       "      <td>22</td>\n",
       "      <td>0.1</td>\n",
       "      <td>0.0</td>\n",
       "      <td>2018-01-13 15:08:18.700</td>\n",
       "      <td>M4IA0FS13J9F0GJD4BX8</td>\n",
       "      <td>28.5653</td>\n",
       "    </tr>\n",
       "    <tr>\n",
       "      <th>6690596</th>\n",
       "      <td>6758123</td>\n",
       "      <td>21</td>\n",
       "      <td>68409</td>\n",
       "      <td>405</td>\n",
       "      <td>18</td>\n",
       "      <td>0.0</td>\n",
       "      <td>0.0</td>\n",
       "      <td>2018-01-18 12:05:16.950</td>\n",
       "      <td>7VZJ77UGBSX2SNCC1GFW</td>\n",
       "      <td>0.4278</td>\n",
       "    </tr>\n",
       "    <tr>\n",
       "      <th>6690597</th>\n",
       "      <td>6758124</td>\n",
       "      <td>17</td>\n",
       "      <td>90315</td>\n",
       "      <td>104</td>\n",
       "      <td>23</td>\n",
       "      <td>0.0</td>\n",
       "      <td>0.0</td>\n",
       "      <td>2018-02-26 08:13:37.850</td>\n",
       "      <td>3JTF5IF0YJLLXF9IRS8X</td>\n",
       "      <td>98.2471</td>\n",
       "    </tr>\n",
       "    <tr>\n",
       "      <th>6690598</th>\n",
       "      <td>6758125</td>\n",
       "      <td>16</td>\n",
       "      <td>45667</td>\n",
       "      <td>305</td>\n",
       "      <td>12</td>\n",
       "      <td>0.0</td>\n",
       "      <td>0.0</td>\n",
       "      <td>2018-04-17 15:26:30.270</td>\n",
       "      <td>RRBD7S603UIC73B631OF</td>\n",
       "      <td>91.0997</td>\n",
       "    </tr>\n",
       "  </tbody>\n",
       "</table>\n",
       "<p>6690599 rows × 10 columns</p>\n",
       "</div>"
      ],
      "text/plain": [
       "         SalesID  SalesPersonID  CustomerID  ProductID  Quantity  Discount  \\\n",
       "0              1              6       27039        381         7       0.0   \n",
       "1              2             16       25011         61         7       0.0   \n",
       "2              3             13       94024         23        24       0.0   \n",
       "3              4              8       73966        176        19       0.2   \n",
       "4              5             10       32653        310         9       0.0   \n",
       "...          ...            ...         ...        ...       ...       ...   \n",
       "6690594  6758121             10       50938        300        13       0.0   \n",
       "6690595  6758122             18       85668        452        22       0.1   \n",
       "6690596  6758123             21       68409        405        18       0.0   \n",
       "6690597  6758124             17       90315        104        23       0.0   \n",
       "6690598  6758125             16       45667        305        12       0.0   \n",
       "\n",
       "         TotalPrice                SalesDate     TransactionNumber    Price  \n",
       "0               0.0  2018-02-05 07:38:25.430  FQL4S94E4ME1EZFTG42G  44.2337  \n",
       "1               0.0  2018-02-02 16:03:31.150  12UGLX40DJ1A5DTFBHB8  62.5460  \n",
       "2               0.0  2018-05-03 19:31:56.880  5DT8RCPL87KI5EORO7B0  79.0184  \n",
       "3               0.0  2018-04-07 14:43:55.420  R3DR9MLD5NR76VO17ULE  81.3167  \n",
       "4               0.0  2018-02-12 15:37:03.940  4BGS0Z5OMAZ8NDAFHHP3  79.9780  \n",
       "...             ...                      ...                   ...      ...  \n",
       "6690594         0.0  2018-04-20 22:39:03.150  AHVBHVO7632V5YYD2VJT  69.5694  \n",
       "6690595         0.0  2018-01-13 15:08:18.700  M4IA0FS13J9F0GJD4BX8  28.5653  \n",
       "6690596         0.0  2018-01-18 12:05:16.950  7VZJ77UGBSX2SNCC1GFW   0.4278  \n",
       "6690597         0.0  2018-02-26 08:13:37.850  3JTF5IF0YJLLXF9IRS8X  98.2471  \n",
       "6690598         0.0  2018-04-17 15:26:30.270  RRBD7S603UIC73B631OF  91.0997  \n",
       "\n",
       "[6690599 rows x 10 columns]"
      ]
     },
     "execution_count": 85,
     "metadata": {},
     "output_type": "execute_result"
    }
   ],
   "source": [
    "# TotalPriceCalculated=(Quantity×UnitPrice)×(1−Discount)\n",
    "\n",
    "sales_products = pd.merge(sales, products[[\"ProductID\", \"Price\"]], on=\"ProductID\", how=\"left\")\n",
    "\n",
    "sales_products\n",
    "\n"
   ]
  },
  {
   "cell_type": "markdown",
   "id": "b92bcee7",
   "metadata": {},
   "source": [
    "verificamos valores nulos:"
   ]
  },
  {
   "cell_type": "code",
   "execution_count": 86,
   "id": "bdcbe993",
   "metadata": {},
   "outputs": [
    {
     "data": {
      "application/vnd.microsoft.datawrangler.viewer.v0+json": {
       "columns": [
        {
         "name": "index",
         "rawType": "object",
         "type": "string"
        },
        {
         "name": "0",
         "rawType": "float64",
         "type": "float"
        }
       ],
       "ref": "c7959bdb-2a4d-4604-9028-c67e5733c390",
       "rows": [
        [
         "SalesID",
         "0.0"
        ],
        [
         "SalesPersonID",
         "0.0"
        ],
        [
         "CustomerID",
         "0.0"
        ],
        [
         "ProductID",
         "0.0"
        ],
        [
         "Quantity",
         "0.0"
        ],
        [
         "Discount",
         "0.0"
        ],
        [
         "TotalPrice",
         "0.0"
        ],
        [
         "SalesDate",
         "0.0"
        ],
        [
         "TransactionNumber",
         "0.0"
        ],
        [
         "Price",
         "0.0003"
        ]
       ],
       "shape": {
        "columns": 1,
        "rows": 10
       }
      },
      "text/plain": [
       "SalesID              0.0000\n",
       "SalesPersonID        0.0000\n",
       "CustomerID           0.0000\n",
       "ProductID            0.0000\n",
       "Quantity             0.0000\n",
       "Discount             0.0000\n",
       "TotalPrice           0.0000\n",
       "SalesDate            0.0000\n",
       "TransactionNumber    0.0000\n",
       "Price                0.0003\n",
       "dtype: float64"
      ]
     },
     "execution_count": 86,
     "metadata": {},
     "output_type": "execute_result"
    }
   ],
   "source": [
    "round(sales_products.isnull().sum()/len(sales_products) *100,4)"
   ]
  },
  {
   "cell_type": "markdown",
   "id": "d58298a7",
   "metadata": {},
   "source": [
    "como hay una cantidad despreciable de valores nulos procedemos a eliminarlos:"
   ]
  },
  {
   "cell_type": "code",
   "execution_count": 87,
   "id": "8694b864",
   "metadata": {},
   "outputs": [
    {
     "name": "stdout",
     "output_type": "stream",
     "text": [
      "6690599\n",
      "6690582\n"
     ]
    }
   ],
   "source": [
    "print(len(sales_products))\n",
    "sales_products = sales_products.dropna()\n",
    "print(len(sales_products))"
   ]
  },
  {
   "cell_type": "code",
   "execution_count": 88,
   "id": "f25763eb",
   "metadata": {},
   "outputs": [
    {
     "data": {
      "application/vnd.microsoft.datawrangler.viewer.v0+json": {
       "columns": [
        {
         "name": "index",
         "rawType": "int64",
         "type": "integer"
        },
        {
         "name": "SalesID",
         "rawType": "int64",
         "type": "integer"
        },
        {
         "name": "SalesPersonID",
         "rawType": "int64",
         "type": "integer"
        },
        {
         "name": "CustomerID",
         "rawType": "int64",
         "type": "integer"
        },
        {
         "name": "ProductID",
         "rawType": "int64",
         "type": "integer"
        },
        {
         "name": "Quantity",
         "rawType": "int64",
         "type": "integer"
        },
        {
         "name": "Discount",
         "rawType": "float64",
         "type": "float"
        },
        {
         "name": "TotalPrice",
         "rawType": "float64",
         "type": "float"
        },
        {
         "name": "SalesDate",
         "rawType": "object",
         "type": "string"
        },
        {
         "name": "TransactionNumber",
         "rawType": "object",
         "type": "string"
        },
        {
         "name": "Price",
         "rawType": "float64",
         "type": "float"
        },
        {
         "name": "TotalPriceCalculated",
         "rawType": "float64",
         "type": "float"
        }
       ],
       "ref": "9b26c0ab-9543-4721-a619-49f98d3ea7fa",
       "rows": [
        [
         "0",
         "1",
         "6",
         "27039",
         "381",
         "7",
         "0.0",
         "0.0",
         "2018-02-05 07:38:25.430",
         "FQL4S94E4ME1EZFTG42G",
         "44.2337",
         "309.6359"
        ],
        [
         "1",
         "2",
         "16",
         "25011",
         "61",
         "7",
         "0.0",
         "0.0",
         "2018-02-02 16:03:31.150",
         "12UGLX40DJ1A5DTFBHB8",
         "62.546",
         "437.822"
        ],
        [
         "2",
         "3",
         "13",
         "94024",
         "23",
         "24",
         "0.0",
         "0.0",
         "2018-05-03 19:31:56.880",
         "5DT8RCPL87KI5EORO7B0",
         "79.0184",
         "1896.4416"
        ],
        [
         "3",
         "4",
         "8",
         "73966",
         "176",
         "19",
         "0.2",
         "0.0",
         "2018-04-07 14:43:55.420",
         "R3DR9MLD5NR76VO17ULE",
         "81.3167",
         "1236.01384"
        ],
        [
         "4",
         "5",
         "10",
         "32653",
         "310",
         "9",
         "0.0",
         "0.0",
         "2018-02-12 15:37:03.940",
         "4BGS0Z5OMAZ8NDAFHHP3",
         "79.978",
         "719.8019999999999"
        ]
       ],
       "shape": {
        "columns": 11,
        "rows": 5
       }
      },
      "text/html": [
       "<div>\n",
       "<style scoped>\n",
       "    .dataframe tbody tr th:only-of-type {\n",
       "        vertical-align: middle;\n",
       "    }\n",
       "\n",
       "    .dataframe tbody tr th {\n",
       "        vertical-align: top;\n",
       "    }\n",
       "\n",
       "    .dataframe thead th {\n",
       "        text-align: right;\n",
       "    }\n",
       "</style>\n",
       "<table border=\"1\" class=\"dataframe\">\n",
       "  <thead>\n",
       "    <tr style=\"text-align: right;\">\n",
       "      <th></th>\n",
       "      <th>SalesID</th>\n",
       "      <th>SalesPersonID</th>\n",
       "      <th>CustomerID</th>\n",
       "      <th>ProductID</th>\n",
       "      <th>Quantity</th>\n",
       "      <th>Discount</th>\n",
       "      <th>TotalPrice</th>\n",
       "      <th>SalesDate</th>\n",
       "      <th>TransactionNumber</th>\n",
       "      <th>Price</th>\n",
       "      <th>TotalPriceCalculated</th>\n",
       "    </tr>\n",
       "  </thead>\n",
       "  <tbody>\n",
       "    <tr>\n",
       "      <th>0</th>\n",
       "      <td>1</td>\n",
       "      <td>6</td>\n",
       "      <td>27039</td>\n",
       "      <td>381</td>\n",
       "      <td>7</td>\n",
       "      <td>0.0</td>\n",
       "      <td>0.0</td>\n",
       "      <td>2018-02-05 07:38:25.430</td>\n",
       "      <td>FQL4S94E4ME1EZFTG42G</td>\n",
       "      <td>44.2337</td>\n",
       "      <td>309.63590</td>\n",
       "    </tr>\n",
       "    <tr>\n",
       "      <th>1</th>\n",
       "      <td>2</td>\n",
       "      <td>16</td>\n",
       "      <td>25011</td>\n",
       "      <td>61</td>\n",
       "      <td>7</td>\n",
       "      <td>0.0</td>\n",
       "      <td>0.0</td>\n",
       "      <td>2018-02-02 16:03:31.150</td>\n",
       "      <td>12UGLX40DJ1A5DTFBHB8</td>\n",
       "      <td>62.5460</td>\n",
       "      <td>437.82200</td>\n",
       "    </tr>\n",
       "    <tr>\n",
       "      <th>2</th>\n",
       "      <td>3</td>\n",
       "      <td>13</td>\n",
       "      <td>94024</td>\n",
       "      <td>23</td>\n",
       "      <td>24</td>\n",
       "      <td>0.0</td>\n",
       "      <td>0.0</td>\n",
       "      <td>2018-05-03 19:31:56.880</td>\n",
       "      <td>5DT8RCPL87KI5EORO7B0</td>\n",
       "      <td>79.0184</td>\n",
       "      <td>1896.44160</td>\n",
       "    </tr>\n",
       "    <tr>\n",
       "      <th>3</th>\n",
       "      <td>4</td>\n",
       "      <td>8</td>\n",
       "      <td>73966</td>\n",
       "      <td>176</td>\n",
       "      <td>19</td>\n",
       "      <td>0.2</td>\n",
       "      <td>0.0</td>\n",
       "      <td>2018-04-07 14:43:55.420</td>\n",
       "      <td>R3DR9MLD5NR76VO17ULE</td>\n",
       "      <td>81.3167</td>\n",
       "      <td>1236.01384</td>\n",
       "    </tr>\n",
       "    <tr>\n",
       "      <th>4</th>\n",
       "      <td>5</td>\n",
       "      <td>10</td>\n",
       "      <td>32653</td>\n",
       "      <td>310</td>\n",
       "      <td>9</td>\n",
       "      <td>0.0</td>\n",
       "      <td>0.0</td>\n",
       "      <td>2018-02-12 15:37:03.940</td>\n",
       "      <td>4BGS0Z5OMAZ8NDAFHHP3</td>\n",
       "      <td>79.9780</td>\n",
       "      <td>719.80200</td>\n",
       "    </tr>\n",
       "  </tbody>\n",
       "</table>\n",
       "</div>"
      ],
      "text/plain": [
       "   SalesID  SalesPersonID  CustomerID  ProductID  Quantity  Discount  \\\n",
       "0        1              6       27039        381         7       0.0   \n",
       "1        2             16       25011         61         7       0.0   \n",
       "2        3             13       94024         23        24       0.0   \n",
       "3        4              8       73966        176        19       0.2   \n",
       "4        5             10       32653        310         9       0.0   \n",
       "\n",
       "   TotalPrice                SalesDate     TransactionNumber    Price  \\\n",
       "0         0.0  2018-02-05 07:38:25.430  FQL4S94E4ME1EZFTG42G  44.2337   \n",
       "1         0.0  2018-02-02 16:03:31.150  12UGLX40DJ1A5DTFBHB8  62.5460   \n",
       "2         0.0  2018-05-03 19:31:56.880  5DT8RCPL87KI5EORO7B0  79.0184   \n",
       "3         0.0  2018-04-07 14:43:55.420  R3DR9MLD5NR76VO17ULE  81.3167   \n",
       "4         0.0  2018-02-12 15:37:03.940  4BGS0Z5OMAZ8NDAFHHP3  79.9780   \n",
       "\n",
       "   TotalPriceCalculated  \n",
       "0             309.63590  \n",
       "1             437.82200  \n",
       "2            1896.44160  \n",
       "3            1236.01384  \n",
       "4             719.80200  "
      ]
     },
     "execution_count": 88,
     "metadata": {},
     "output_type": "execute_result"
    }
   ],
   "source": [
    "# TotalPriceCalculated=(Quantity×UnitPrice)×(1−Discount)\n",
    "pd.options.mode.chained_assignment = None  # Desactiva el SettingWithCopyWarning\n",
    "\n",
    "sales_products[\"TotalPriceCalculated\"] = (sales_products[\"Quantity\"] * sales_products[\"Price\"]) * (1 - sales_products[\"Discount\"])\n",
    "\n",
    "sales_products.head()"
   ]
  },
  {
   "cell_type": "markdown",
   "id": "b61475b8",
   "metadata": {},
   "source": [
    "<h3 style=\"color:red;\">2. Detecta los outliers en la columna de ventas totales (TotalPriceCalculated)</h3>\n",
    "<h3 style=\"color:red;\">Utilizando el criterio del rango intercuartílico (IQR). </h3>\n",
    "\n",
    "<h3 style=\"color:red;\">Luego, crea una nueva columna llamada IsOutlier que tenga el valor 1 si el registro es un outlier y 0 en caso contrario.</h3>"
   ]
  },
  {
   "cell_type": "code",
   "execution_count": 89,
   "id": "236feda5",
   "metadata": {},
   "outputs": [
    {
     "data": {
      "text/plain": [
       "<Axes: >"
      ]
     },
     "execution_count": 89,
     "metadata": {},
     "output_type": "execute_result"
    },
    {
     "data": {
      "image/png": "[encoded data removed]",
      "text/plain": [
       "<Figure size 640x480 with 1 Axes>"
      ]
     },
     "metadata": {},
     "output_type": "display_data"
    }
   ],
   "source": [
    "sales_products[\"TotalPriceCalculated\"].plot(kind=\"box\")"
   ]
  },
  {
   "cell_type": "markdown",
   "id": "316b1713",
   "metadata": {},
   "source": [
    "Este grafico en forma de caja nos indica que pueden haber varios outliers. Vamos a calcularlos ..."
   ]
  },
  {
   "cell_type": "code",
   "execution_count": 90,
   "id": "e8eb7305",
   "metadata": {},
   "outputs": [
    {
     "data": {
      "application/vnd.microsoft.datawrangler.viewer.v0+json": {
       "columns": [
        {
         "name": "index",
         "rawType": "int64",
         "type": "integer"
        },
        {
         "name": "SalesID",
         "rawType": "int64",
         "type": "integer"
        },
        {
         "name": "SalesPersonID",
         "rawType": "int64",
         "type": "integer"
        },
        {
         "name": "CustomerID",
         "rawType": "int64",
         "type": "integer"
        },
        {
         "name": "ProductID",
         "rawType": "int64",
         "type": "integer"
        },
        {
         "name": "Quantity",
         "rawType": "int64",
         "type": "integer"
        },
        {
         "name": "Discount",
         "rawType": "float64",
         "type": "float"
        },
        {
         "name": "TotalPrice",
         "rawType": "float64",
         "type": "float"
        },
        {
         "name": "SalesDate",
         "rawType": "object",
         "type": "string"
        },
        {
         "name": "TransactionNumber",
         "rawType": "object",
         "type": "string"
        },
        {
         "name": "Price",
         "rawType": "float64",
         "type": "float"
        },
        {
         "name": "TotalPriceCalculated",
         "rawType": "float64",
         "type": "float"
        },
        {
         "name": "IsOutlier",
         "rawType": "int64",
         "type": "integer"
        }
       ],
       "ref": "cc46c3ac-26d7-4b19-8dbc-3323a339efa8",
       "rows": [
        [
         "0",
         "1",
         "6",
         "27039",
         "381",
         "7",
         "0.0",
         "0.0",
         "2018-02-05 07:38:25.430",
         "FQL4S94E4ME1EZFTG42G",
         "44.2337",
         "309.6359",
         "0"
        ],
        [
         "1",
         "2",
         "16",
         "25011",
         "61",
         "7",
         "0.0",
         "0.0",
         "2018-02-02 16:03:31.150",
         "12UGLX40DJ1A5DTFBHB8",
         "62.546",
         "437.822",
         "0"
        ],
        [
         "2",
         "3",
         "13",
         "94024",
         "23",
         "24",
         "0.0",
         "0.0",
         "2018-05-03 19:31:56.880",
         "5DT8RCPL87KI5EORO7B0",
         "79.0184",
         "1896.4416",
         "0"
        ],
        [
         "3",
         "4",
         "8",
         "73966",
         "176",
         "19",
         "0.2",
         "0.0",
         "2018-04-07 14:43:55.420",
         "R3DR9MLD5NR76VO17ULE",
         "81.3167",
         "1236.01384",
         "0"
        ],
        [
         "4",
         "5",
         "10",
         "32653",
         "310",
         "9",
         "0.0",
         "0.0",
         "2018-02-12 15:37:03.940",
         "4BGS0Z5OMAZ8NDAFHHP3",
         "79.978",
         "719.8019999999999",
         "0"
        ]
       ],
       "shape": {
        "columns": 12,
        "rows": 5
       }
      },
      "text/html": [
       "<div>\n",
       "<style scoped>\n",
       "    .dataframe tbody tr th:only-of-type {\n",
       "        vertical-align: middle;\n",
       "    }\n",
       "\n",
       "    .dataframe tbody tr th {\n",
       "        vertical-align: top;\n",
       "    }\n",
       "\n",
       "    .dataframe thead th {\n",
       "        text-align: right;\n",
       "    }\n",
       "</style>\n",
       "<table border=\"1\" class=\"dataframe\">\n",
       "  <thead>\n",
       "    <tr style=\"text-align: right;\">\n",
       "      <th></th>\n",
       "      <th>SalesID</th>\n",
       "      <th>SalesPersonID</th>\n",
       "      <th>CustomerID</th>\n",
       "      <th>ProductID</th>\n",
       "      <th>Quantity</th>\n",
       "      <th>Discount</th>\n",
       "      <th>TotalPrice</th>\n",
       "      <th>SalesDate</th>\n",
       "      <th>TransactionNumber</th>\n",
       "      <th>Price</th>\n",
       "      <th>TotalPriceCalculated</th>\n",
       "      <th>IsOutlier</th>\n",
       "    </tr>\n",
       "  </thead>\n",
       "  <tbody>\n",
       "    <tr>\n",
       "      <th>0</th>\n",
       "      <td>1</td>\n",
       "      <td>6</td>\n",
       "      <td>27039</td>\n",
       "      <td>381</td>\n",
       "      <td>7</td>\n",
       "      <td>0.0</td>\n",
       "      <td>0.0</td>\n",
       "      <td>2018-02-05 07:38:25.430</td>\n",
       "      <td>FQL4S94E4ME1EZFTG42G</td>\n",
       "      <td>44.2337</td>\n",
       "      <td>309.63590</td>\n",
       "      <td>0</td>\n",
       "    </tr>\n",
       "    <tr>\n",
       "      <th>1</th>\n",
       "      <td>2</td>\n",
       "      <td>16</td>\n",
       "      <td>25011</td>\n",
       "      <td>61</td>\n",
       "      <td>7</td>\n",
       "      <td>0.0</td>\n",
       "      <td>0.0</td>\n",
       "      <td>2018-02-02 16:03:31.150</td>\n",
       "      <td>12UGLX40DJ1A5DTFBHB8</td>\n",
       "      <td>62.5460</td>\n",
       "      <td>437.82200</td>\n",
       "      <td>0</td>\n",
       "    </tr>\n",
       "    <tr>\n",
       "      <th>2</th>\n",
       "      <td>3</td>\n",
       "      <td>13</td>\n",
       "      <td>94024</td>\n",
       "      <td>23</td>\n",
       "      <td>24</td>\n",
       "      <td>0.0</td>\n",
       "      <td>0.0</td>\n",
       "      <td>2018-05-03 19:31:56.880</td>\n",
       "      <td>5DT8RCPL87KI5EORO7B0</td>\n",
       "      <td>79.0184</td>\n",
       "      <td>1896.44160</td>\n",
       "      <td>0</td>\n",
       "    </tr>\n",
       "    <tr>\n",
       "      <th>3</th>\n",
       "      <td>4</td>\n",
       "      <td>8</td>\n",
       "      <td>73966</td>\n",
       "      <td>176</td>\n",
       "      <td>19</td>\n",
       "      <td>0.2</td>\n",
       "      <td>0.0</td>\n",
       "      <td>2018-04-07 14:43:55.420</td>\n",
       "      <td>R3DR9MLD5NR76VO17ULE</td>\n",
       "      <td>81.3167</td>\n",
       "      <td>1236.01384</td>\n",
       "      <td>0</td>\n",
       "    </tr>\n",
       "    <tr>\n",
       "      <th>4</th>\n",
       "      <td>5</td>\n",
       "      <td>10</td>\n",
       "      <td>32653</td>\n",
       "      <td>310</td>\n",
       "      <td>9</td>\n",
       "      <td>0.0</td>\n",
       "      <td>0.0</td>\n",
       "      <td>2018-02-12 15:37:03.940</td>\n",
       "      <td>4BGS0Z5OMAZ8NDAFHHP3</td>\n",
       "      <td>79.9780</td>\n",
       "      <td>719.80200</td>\n",
       "      <td>0</td>\n",
       "    </tr>\n",
       "  </tbody>\n",
       "</table>\n",
       "</div>"
      ],
      "text/plain": [
       "   SalesID  SalesPersonID  CustomerID  ProductID  Quantity  Discount  \\\n",
       "0        1              6       27039        381         7       0.0   \n",
       "1        2             16       25011         61         7       0.0   \n",
       "2        3             13       94024         23        24       0.0   \n",
       "3        4              8       73966        176        19       0.2   \n",
       "4        5             10       32653        310         9       0.0   \n",
       "\n",
       "   TotalPrice                SalesDate     TransactionNumber    Price  \\\n",
       "0         0.0  2018-02-05 07:38:25.430  FQL4S94E4ME1EZFTG42G  44.2337   \n",
       "1         0.0  2018-02-02 16:03:31.150  12UGLX40DJ1A5DTFBHB8  62.5460   \n",
       "2         0.0  2018-05-03 19:31:56.880  5DT8RCPL87KI5EORO7B0  79.0184   \n",
       "3         0.0  2018-04-07 14:43:55.420  R3DR9MLD5NR76VO17ULE  81.3167   \n",
       "4         0.0  2018-02-12 15:37:03.940  4BGS0Z5OMAZ8NDAFHHP3  79.9780   \n",
       "\n",
       "   TotalPriceCalculated  IsOutlier  \n",
       "0             309.63590          0  \n",
       "1             437.82200          0  \n",
       "2            1896.44160          0  \n",
       "3            1236.01384          0  \n",
       "4             719.80200          0  "
      ]
     },
     "execution_count": 90,
     "metadata": {},
     "output_type": "execute_result"
    }
   ],
   "source": [
    "# calculamos los cuartiles\n",
    "Q1 = sales_products[\"TotalPriceCalculated\"].quantile(0.25)\n",
    "Q3 = sales_products[\"TotalPriceCalculated\"].quantile(0.75)\n",
    "IQR = Q3 - Q1\n",
    "\n",
    "# cota inferior\n",
    "lower_bound = Q1 - 1.5 * IQR\n",
    "# cota superior\n",
    "upper_bound = Q3 + 1.5 * IQR\n",
    "\n",
    "sales_products[\"IsOutlier\"] = (\n",
    "    (sales_products[\"TotalPriceCalculated\"] < lower_bound) \n",
    "    | (sales_products[\"TotalPriceCalculated\"] > upper_bound)).astype(int)\n",
    "\n",
    "sales_products.head()"
   ]
  },
  {
   "cell_type": "markdown",
   "id": "be0e9693",
   "metadata": {},
   "source": [
    "verificamos % de outliers:"
   ]
  },
  {
   "cell_type": "code",
   "execution_count": 91,
   "id": "55d251fa",
   "metadata": {},
   "outputs": [
    {
     "data": {
      "application/vnd.microsoft.datawrangler.viewer.v0+json": {
       "columns": [
        {
         "name": "IsOutlier",
         "rawType": "int64",
         "type": "integer"
        },
        {
         "name": "count",
         "rawType": "float64",
         "type": "float"
        }
       ],
       "ref": "b9c1b334-f5c8-4b1b-a3ba-ff84b932a17e",
       "rows": [
        [
         "0",
         "99.28634011211581"
        ],
        [
         "1",
         "0.7136598878841931"
        ]
       ],
       "shape": {
        "columns": 1,
        "rows": 2
       }
      },
      "text/plain": [
       "IsOutlier\n",
       "0    99.28634\n",
       "1     0.71366\n",
       "Name: count, dtype: float64"
      ]
     },
     "execution_count": 91,
     "metadata": {},
     "output_type": "execute_result"
    }
   ],
   "source": [
    "sales_products[\"IsOutlier\"].value_counts() /len(sales_products) * 100"
   ]
  },
  {
   "cell_type": "markdown",
   "id": "004d410a",
   "metadata": {},
   "source": [
    "\n",
    "\n",
    "<h3 style=\"color:red;\">3. A partir de la columna SalesDate, crea una nueva columna que contenga únicamente la hora de la venta.</h3>"
   ]
  },
  {
   "cell_type": "code",
   "execution_count": 92,
   "id": "16c8b34f",
   "metadata": {},
   "outputs": [
    {
     "data": {
      "application/vnd.microsoft.datawrangler.viewer.v0+json": {
       "columns": [
        {
         "name": "index",
         "rawType": "int64",
         "type": "integer"
        },
        {
         "name": "SalesDate",
         "rawType": "datetime64[ns]",
         "type": "datetime"
        },
        {
         "name": "hora",
         "rawType": "int32",
         "type": "integer"
        }
       ],
       "ref": "3bb6e5a8-415d-4b73-97c5-9dc1a7d979f5",
       "rows": [
        [
         "0",
         "2018-02-05 07:38:25.430000",
         "7"
        ],
        [
         "1",
         "2018-02-02 16:03:31.150000",
         "16"
        ],
        [
         "2",
         "2018-05-03 19:31:56.880000",
         "19"
        ],
        [
         "3",
         "2018-04-07 14:43:55.420000",
         "14"
        ],
        [
         "4",
         "2018-02-12 15:37:03.940000",
         "15"
        ],
        [
         "5",
         "2018-02-07 10:33:24.990000",
         "10"
        ],
        [
         "6",
         "2018-03-02 23:09:58.750000",
         "23"
        ],
        [
         "7",
         "2018-01-17 13:41:38.460000",
         "13"
        ],
        [
         "8",
         "2018-04-27 06:19:58.570000",
         "6"
        ],
        [
         "9",
         "2018-03-26 22:12:08.530000",
         "22"
        ],
        [
         "10",
         "2018-03-30 09:23:05.370000",
         "9"
        ],
        [
         "11",
         "2018-02-07 00:50:06",
         "0"
        ],
        [
         "12",
         "2018-02-07 23:40:36.820000",
         "23"
        ],
        [
         "13",
         "2018-02-13 06:39:51.960000",
         "6"
        ],
        [
         "14",
         "2018-01-26 05:20:52.510000",
         "5"
        ],
        [
         "15",
         "2018-04-30 23:55:11.560000",
         "23"
        ],
        [
         "16",
         "2018-01-20 02:02:39.460000",
         "2"
        ],
        [
         "17",
         "2018-05-06 13:15:34.750000",
         "13"
        ],
        [
         "18",
         "2018-01-04 11:17:04.600000",
         "11"
        ],
        [
         "19",
         "2018-03-08 21:02:34.480000",
         "21"
        ],
        [
         "20",
         "2018-04-30 08:42:49.010000",
         "8"
        ],
        [
         "21",
         "2018-01-31 22:14:45.630000",
         "22"
        ],
        [
         "22",
         "2018-02-16 05:23:12.380000",
         "5"
        ],
        [
         "23",
         "2018-03-28 05:56:50.450000",
         "5"
        ],
        [
         "24",
         "2018-03-01 06:42:59.620000",
         "6"
        ],
        [
         "25",
         "2018-04-25 09:27:01.180000",
         "9"
        ],
        [
         "26",
         "2018-01-20 09:27:33.630000",
         "9"
        ],
        [
         "27",
         "2018-03-01 09:47:42.980000",
         "9"
        ],
        [
         "28",
         "2018-01-01 20:31:36.660000",
         "20"
        ],
        [
         "29",
         "2018-04-12 01:03:54.130000",
         "1"
        ],
        [
         "30",
         "2018-04-25 05:10:14.730000",
         "5"
        ],
        [
         "31",
         "2018-03-04 07:09:32.220000",
         "7"
        ],
        [
         "32",
         "2018-02-26 08:31:57.410000",
         "8"
        ],
        [
         "33",
         "2018-01-24 08:21:21.770000",
         "8"
        ],
        [
         "34",
         "2018-04-09 12:21:05.650000",
         "12"
        ],
        [
         "35",
         "2018-01-26 21:25:08.970000",
         "21"
        ],
        [
         "36",
         "2018-03-08 19:26:35.240000",
         "19"
        ],
        [
         "37",
         "2018-04-03 08:19:04.710000",
         "8"
        ],
        [
         "38",
         "2018-03-22 23:34:27.960000",
         "23"
        ],
        [
         "39",
         "2018-01-29 18:49:24.100000",
         "18"
        ],
        [
         "40",
         "2018-02-01 01:58:03.850000",
         "1"
        ],
        [
         "41",
         "2018-01-18 11:43:12.190000",
         "11"
        ],
        [
         "42",
         "2018-04-08 20:45:29.430000",
         "20"
        ],
        [
         "43",
         "2018-04-01 23:56:54.750000",
         "23"
        ],
        [
         "44",
         "2018-02-04 09:37:10.270000",
         "9"
        ],
        [
         "45",
         "2018-02-06 18:45:37.340000",
         "18"
        ],
        [
         "46",
         "2018-04-24 08:17:50.060000",
         "8"
        ],
        [
         "47",
         "2018-03-31 07:58:37.110000",
         "7"
        ],
        [
         "48",
         "2018-05-03 00:03:35.620000",
         "0"
        ],
        [
         "49",
         "2018-01-23 00:49:20.470000",
         "0"
        ]
       ],
       "shape": {
        "columns": 2,
        "rows": 6690582
       }
      },
      "text/html": [
       "<div>\n",
       "<style scoped>\n",
       "    .dataframe tbody tr th:only-of-type {\n",
       "        vertical-align: middle;\n",
       "    }\n",
       "\n",
       "    .dataframe tbody tr th {\n",
       "        vertical-align: top;\n",
       "    }\n",
       "\n",
       "    .dataframe thead th {\n",
       "        text-align: right;\n",
       "    }\n",
       "</style>\n",
       "<table border=\"1\" class=\"dataframe\">\n",
       "  <thead>\n",
       "    <tr style=\"text-align: right;\">\n",
       "      <th></th>\n",
       "      <th>SalesDate</th>\n",
       "      <th>hora</th>\n",
       "    </tr>\n",
       "  </thead>\n",
       "  <tbody>\n",
       "    <tr>\n",
       "      <th>0</th>\n",
       "      <td>2018-02-05 07:38:25.430</td>\n",
       "      <td>7</td>\n",
       "    </tr>\n",
       "    <tr>\n",
       "      <th>1</th>\n",
       "      <td>2018-02-02 16:03:31.150</td>\n",
       "      <td>16</td>\n",
       "    </tr>\n",
       "    <tr>\n",
       "      <th>2</th>\n",
       "      <td>2018-05-03 19:31:56.880</td>\n",
       "      <td>19</td>\n",
       "    </tr>\n",
       "    <tr>\n",
       "      <th>3</th>\n",
       "      <td>2018-04-07 14:43:55.420</td>\n",
       "      <td>14</td>\n",
       "    </tr>\n",
       "    <tr>\n",
       "      <th>4</th>\n",
       "      <td>2018-02-12 15:37:03.940</td>\n",
       "      <td>15</td>\n",
       "    </tr>\n",
       "    <tr>\n",
       "      <th>...</th>\n",
       "      <td>...</td>\n",
       "      <td>...</td>\n",
       "    </tr>\n",
       "    <tr>\n",
       "      <th>6690594</th>\n",
       "      <td>2018-04-20 22:39:03.150</td>\n",
       "      <td>22</td>\n",
       "    </tr>\n",
       "    <tr>\n",
       "      <th>6690595</th>\n",
       "      <td>2018-01-13 15:08:18.700</td>\n",
       "      <td>15</td>\n",
       "    </tr>\n",
       "    <tr>\n",
       "      <th>6690596</th>\n",
       "      <td>2018-01-18 12:05:16.950</td>\n",
       "      <td>12</td>\n",
       "    </tr>\n",
       "    <tr>\n",
       "      <th>6690597</th>\n",
       "      <td>2018-02-26 08:13:37.850</td>\n",
       "      <td>8</td>\n",
       "    </tr>\n",
       "    <tr>\n",
       "      <th>6690598</th>\n",
       "      <td>2018-04-17 15:26:30.270</td>\n",
       "      <td>15</td>\n",
       "    </tr>\n",
       "  </tbody>\n",
       "</table>\n",
       "<p>6690582 rows × 2 columns</p>\n",
       "</div>"
      ],
      "text/plain": [
       "                      SalesDate  hora\n",
       "0       2018-02-05 07:38:25.430     7\n",
       "1       2018-02-02 16:03:31.150    16\n",
       "2       2018-05-03 19:31:56.880    19\n",
       "3       2018-04-07 14:43:55.420    14\n",
       "4       2018-02-12 15:37:03.940    15\n",
       "...                         ...   ...\n",
       "6690594 2018-04-20 22:39:03.150    22\n",
       "6690595 2018-01-13 15:08:18.700    15\n",
       "6690596 2018-01-18 12:05:16.950    12\n",
       "6690597 2018-02-26 08:13:37.850     8\n",
       "6690598 2018-04-17 15:26:30.270    15\n",
       "\n",
       "[6690582 rows x 2 columns]"
      ]
     },
     "execution_count": 92,
     "metadata": {},
     "output_type": "execute_result"
    }
   ],
   "source": [
    "sales_products[\"SalesDate\"] = pd.to_datetime(sales_products[\"SalesDate\"], errors=\"coerce\")\n",
    "sales_products[\"hora\"] = sales_products[\"SalesDate\"].dt.hour\n",
    "\n",
    "sales_products[[\"SalesDate\",\"hora\"]]"
   ]
  },
  {
   "cell_type": "markdown",
   "id": "cbbf0488",
   "metadata": {},
   "source": [
    "<h3 style=\"color:red;\">Luego, identifica en qué hora del día se concentran más ventas totales (TotalPriceCalculated)</h3>"
   ]
  },
  {
   "cell_type": "code",
   "execution_count": 93,
   "id": "694d65ee",
   "metadata": {},
   "outputs": [
    {
     "name": "stdout",
     "output_type": "stream",
     "text": [
      "   hora  TotalPricePerHour   total %\n",
      "0  16.0    179014421.23606  4.189221\n"
     ]
    }
   ],
   "source": [
    "\n",
    "Total_Sales_Hour_Grouped = (sales_products.groupby(\"hora\")[\"TotalPriceCalculated\"].sum()\n",
    "                            .reset_index(name=\"TotalPricePerHour\").astype(\"Float64\")\n",
    "                            )\n",
    "\n",
    "total_sales = Total_Sales_Hour_Grouped[\"TotalPricePerHour\"].sum()\n",
    "\n",
    "Total_Sales_Hour_Grouped[\"total %\"] = (Total_Sales_Hour_Grouped[\"TotalPricePerHour\"] / total_sales * 100)\n",
    "\n",
    "print(Total_Sales_Hour_Grouped.sort_values(by=\"total %\", ascending=False).reset_index(drop=True).head(1))\n"
   ]
  },
  {
   "cell_type": "markdown",
   "id": "7653dc57",
   "metadata": {},
   "source": [
    "Conclusion: Vemos que a las 16hs se concentra la mayor cantidad de ventas siendo el 4.2 % del total"
   ]
  },
  {
   "cell_type": "markdown",
   "id": "8ebb9235",
   "metadata": {},
   "source": [
    "<h3 style=\"color:red;\">¿La empresa vende más durante los días de semana o en el fin de semana? </h3>\n",
    "\n",
    "<h3 style=\"color:red;\">Utiliza la columna SalesDate para identificar el día de la semana de cada venta, clasifica los registros como Entre semana o Fin de semana, </h3>\n",
    "\n",
    "<h3 style=\"color:red;\">y compara el total de ventas (TotalPriceCalculated) entre ambos grupos.</h3>"
   ]
  },
  {
   "cell_type": "code",
   "execution_count": 94,
   "id": "ef8d7ac4",
   "metadata": {},
   "outputs": [
    {
     "name": "stdout",
     "output_type": "stream",
     "text": [
      "   EsFinDeSemana  TotalPricePerDayOfWeek    total %\n",
      "0            0.0        3080351837.90699  72.085116\n",
      "1            1.0        1192862950.43727  27.914884\n"
     ]
    }
   ],
   "source": [
    "sales_products[\"DayOfWeek\"] = sales_products[\"SalesDate\"].dt.dayofweek.astype(\"int\")  # Lunes = 0\n",
    "\n",
    "sales_products[\"EsFinDeSemana\"] = (sales_products[\"DayOfWeek\"] >= 5).astype(int)\n",
    "\n",
    "sales_products[[\"SalesDate\",\"DayOfWeek\",\"EsFinDeSemana\"]]\n",
    "\n",
    "Total_Sales_Day_Of_Week_Grouped = (sales_products.groupby(\"EsFinDeSemana\")[\"TotalPriceCalculated\"].sum()\n",
    "                            .reset_index(name=\"TotalPricePerDayOfWeek\").astype(\"Float64\")\n",
    "                            )\n",
    "\n",
    "total_sales = Total_Sales_Day_Of_Week_Grouped[\"TotalPricePerDayOfWeek\"].sum()\n",
    "\n",
    "Total_Sales_Day_Of_Week_Grouped[\"total %\"] = (Total_Sales_Day_Of_Week_Grouped[\"TotalPricePerDayOfWeek\"] / total_sales * 100)\n",
    "\n",
    "print(Total_Sales_Day_Of_Week_Grouped.sort_values(by=\"total %\", ascending=False).reset_index(drop=True))"
   ]
  },
  {
   "cell_type": "markdown",
   "id": "4a814f27",
   "metadata": {},
   "source": [
    "Conclusion: La mayoria de las ventas (72%) se realizan durante la semana."
   ]
  },
  {
   "cell_type": "markdown",
   "id": "85ce95c7",
   "metadata": {},
   "source": [
    "<h3 style=\"color:red;\">4. Como parte del proceso de feature engineering, en el mismo df que vienes trabajando, calcula dos nuevas columnas en el dataset de ventas:</h3>\n",
    "<h3 style=\"color:red;\">La edad del empleado al momento de su contratación y años de experiencia al momento de realizar cada venta.</h3>\n",
    "<h3 style=\"color:red;\">Utiliza las columnas BirthDate, HireDate (de la tabla employees) y SalesDate (de la tabla sales). Asegúrate de trabajar con fechas en formato adecuado.</h3>"
   ]
  },
  {
   "cell_type": "markdown",
   "id": "2d5a045c",
   "metadata": {},
   "source": [
    "Analizamos la tabla de empleados:"
   ]
  },
  {
   "cell_type": "code",
   "execution_count": 95,
   "id": "3acd093e",
   "metadata": {},
   "outputs": [
    {
     "data": {
      "application/vnd.microsoft.datawrangler.viewer.v0+json": {
       "columns": [
        {
         "name": "index",
         "rawType": "int64",
         "type": "integer"
        },
        {
         "name": "EmployeeID",
         "rawType": "int64",
         "type": "integer"
        },
        {
         "name": "FirstName",
         "rawType": "object",
         "type": "string"
        },
        {
         "name": "MiddleInitial",
         "rawType": "object",
         "type": "string"
        },
        {
         "name": "LastName",
         "rawType": "object",
         "type": "string"
        },
        {
         "name": "BirthDate",
         "rawType": "object",
         "type": "string"
        },
        {
         "name": "Gender",
         "rawType": "object",
         "type": "string"
        },
        {
         "name": "CityID",
         "rawType": "int64",
         "type": "integer"
        },
        {
         "name": "HireDate",
         "rawType": "object",
         "type": "string"
        }
       ],
       "ref": "16ed7ed5-4596-4a18-965d-c14c8cbfcc6b",
       "rows": [
        [
         "0",
         "1",
         "Nicole",
         "T",
         "Fuller",
         "1981-03-07 00:00:00.000",
         "F",
         "80",
         "2011-06-20 07:15:36.920"
        ],
        [
         "1",
         "2",
         "Christine",
         "W",
         "Palmer",
         "1968-01-25 00:00:00.000",
         "F",
         "4",
         "2011-04-27 04:07:56.930"
        ],
        [
         "2",
         "3",
         "Pablo",
         "Y",
         "Cline",
         "1963-02-09 00:00:00.000",
         "M",
         "70",
         "2012-03-30 18:55:23.270"
        ],
        [
         "3",
         "4",
         "Darnell",
         "O",
         "Nielsen",
         "1989-02-06 00:00:00.000",
         "M",
         "39",
         "2014-03-06 06:55:02.780"
        ],
        [
         "4",
         "5",
         "Desiree",
         "L",
         "Stuart",
         "1963-05-03 00:00:00.000",
         "F",
         "23",
         "2014-11-16 22:59:54.720"
        ]
       ],
       "shape": {
        "columns": 8,
        "rows": 5
       }
      },
      "text/html": [
       "<div>\n",
       "<style scoped>\n",
       "    .dataframe tbody tr th:only-of-type {\n",
       "        vertical-align: middle;\n",
       "    }\n",
       "\n",
       "    .dataframe tbody tr th {\n",
       "        vertical-align: top;\n",
       "    }\n",
       "\n",
       "    .dataframe thead th {\n",
       "        text-align: right;\n",
       "    }\n",
       "</style>\n",
       "<table border=\"1\" class=\"dataframe\">\n",
       "  <thead>\n",
       "    <tr style=\"text-align: right;\">\n",
       "      <th></th>\n",
       "      <th>EmployeeID</th>\n",
       "      <th>FirstName</th>\n",
       "      <th>MiddleInitial</th>\n",
       "      <th>LastName</th>\n",
       "      <th>BirthDate</th>\n",
       "      <th>Gender</th>\n",
       "      <th>CityID</th>\n",
       "      <th>HireDate</th>\n",
       "    </tr>\n",
       "  </thead>\n",
       "  <tbody>\n",
       "    <tr>\n",
       "      <th>0</th>\n",
       "      <td>1</td>\n",
       "      <td>Nicole</td>\n",
       "      <td>T</td>\n",
       "      <td>Fuller</td>\n",
       "      <td>1981-03-07 00:00:00.000</td>\n",
       "      <td>F</td>\n",
       "      <td>80</td>\n",
       "      <td>2011-06-20 07:15:36.920</td>\n",
       "    </tr>\n",
       "    <tr>\n",
       "      <th>1</th>\n",
       "      <td>2</td>\n",
       "      <td>Christine</td>\n",
       "      <td>W</td>\n",
       "      <td>Palmer</td>\n",
       "      <td>1968-01-25 00:00:00.000</td>\n",
       "      <td>F</td>\n",
       "      <td>4</td>\n",
       "      <td>2011-04-27 04:07:56.930</td>\n",
       "    </tr>\n",
       "    <tr>\n",
       "      <th>2</th>\n",
       "      <td>3</td>\n",
       "      <td>Pablo</td>\n",
       "      <td>Y</td>\n",
       "      <td>Cline</td>\n",
       "      <td>1963-02-09 00:00:00.000</td>\n",
       "      <td>M</td>\n",
       "      <td>70</td>\n",
       "      <td>2012-03-30 18:55:23.270</td>\n",
       "    </tr>\n",
       "    <tr>\n",
       "      <th>3</th>\n",
       "      <td>4</td>\n",
       "      <td>Darnell</td>\n",
       "      <td>O</td>\n",
       "      <td>Nielsen</td>\n",
       "      <td>1989-02-06 00:00:00.000</td>\n",
       "      <td>M</td>\n",
       "      <td>39</td>\n",
       "      <td>2014-03-06 06:55:02.780</td>\n",
       "    </tr>\n",
       "    <tr>\n",
       "      <th>4</th>\n",
       "      <td>5</td>\n",
       "      <td>Desiree</td>\n",
       "      <td>L</td>\n",
       "      <td>Stuart</td>\n",
       "      <td>1963-05-03 00:00:00.000</td>\n",
       "      <td>F</td>\n",
       "      <td>23</td>\n",
       "      <td>2014-11-16 22:59:54.720</td>\n",
       "    </tr>\n",
       "  </tbody>\n",
       "</table>\n",
       "</div>"
      ],
      "text/plain": [
       "   EmployeeID  FirstName MiddleInitial LastName                BirthDate  \\\n",
       "0           1     Nicole             T   Fuller  1981-03-07 00:00:00.000   \n",
       "1           2  Christine             W   Palmer  1968-01-25 00:00:00.000   \n",
       "2           3      Pablo             Y    Cline  1963-02-09 00:00:00.000   \n",
       "3           4    Darnell             O  Nielsen  1989-02-06 00:00:00.000   \n",
       "4           5    Desiree             L   Stuart  1963-05-03 00:00:00.000   \n",
       "\n",
       "  Gender  CityID                 HireDate  \n",
       "0      F      80  2011-06-20 07:15:36.920  \n",
       "1      F       4  2011-04-27 04:07:56.930  \n",
       "2      M      70  2012-03-30 18:55:23.270  \n",
       "3      M      39  2014-03-06 06:55:02.780  \n",
       "4      F      23  2014-11-16 22:59:54.720  "
      ]
     },
     "execution_count": 95,
     "metadata": {},
     "output_type": "execute_result"
    }
   ],
   "source": [
    "employees.head()"
   ]
  },
  {
   "cell_type": "code",
   "execution_count": 96,
   "id": "b974682c",
   "metadata": {},
   "outputs": [
    {
     "name": "stdout",
     "output_type": "stream",
     "text": [
      "<class 'pandas.core.frame.DataFrame'>\n",
      "RangeIndex: 23 entries, 0 to 22\n",
      "Data columns (total 8 columns):\n",
      " #   Column         Non-Null Count  Dtype \n",
      "---  ------         --------------  ----- \n",
      " 0   EmployeeID     23 non-null     int64 \n",
      " 1   FirstName      23 non-null     object\n",
      " 2   MiddleInitial  23 non-null     object\n",
      " 3   LastName       23 non-null     object\n",
      " 4   BirthDate      23 non-null     object\n",
      " 5   Gender         23 non-null     object\n",
      " 6   CityID         23 non-null     int64 \n",
      " 7   HireDate       23 non-null     object\n",
      "dtypes: int64(2), object(6)\n",
      "memory usage: 1.6+ KB\n"
     ]
    }
   ],
   "source": [
    "employees.info()"
   ]
  },
  {
   "cell_type": "code",
   "execution_count": 97,
   "id": "9f7c26ac",
   "metadata": {},
   "outputs": [
    {
     "data": {
      "application/vnd.microsoft.datawrangler.viewer.v0+json": {
       "columns": [
        {
         "name": "index",
         "rawType": "object",
         "type": "string"
        },
        {
         "name": "EmployeeID",
         "rawType": "float64",
         "type": "float"
        },
        {
         "name": "CityID",
         "rawType": "float64",
         "type": "float"
        }
       ],
       "ref": "a124619b-15b9-4a31-a353-7729edbb7d30",
       "rows": [
        [
         "count",
         "23.0",
         "23.0"
        ],
        [
         "mean",
         "12.0",
         "43.78260869565217"
        ],
        [
         "std",
         "6.782329983125268",
         "26.38173700556561"
        ],
        [
         "min",
         "1.0",
         "4.0"
        ],
        [
         "25%",
         "6.5",
         "20.5"
        ],
        [
         "50%",
         "12.0",
         "39.0"
        ],
        [
         "75%",
         "17.5",
         "65.0"
        ],
        [
         "max",
         "23.0",
         "92.0"
        ]
       ],
       "shape": {
        "columns": 2,
        "rows": 8
       }
      },
      "text/html": [
       "<div>\n",
       "<style scoped>\n",
       "    .dataframe tbody tr th:only-of-type {\n",
       "        vertical-align: middle;\n",
       "    }\n",
       "\n",
       "    .dataframe tbody tr th {\n",
       "        vertical-align: top;\n",
       "    }\n",
       "\n",
       "    .dataframe thead th {\n",
       "        text-align: right;\n",
       "    }\n",
       "</style>\n",
       "<table border=\"1\" class=\"dataframe\">\n",
       "  <thead>\n",
       "    <tr style=\"text-align: right;\">\n",
       "      <th></th>\n",
       "      <th>EmployeeID</th>\n",
       "      <th>CityID</th>\n",
       "    </tr>\n",
       "  </thead>\n",
       "  <tbody>\n",
       "    <tr>\n",
       "      <th>count</th>\n",
       "      <td>23.00000</td>\n",
       "      <td>23.000000</td>\n",
       "    </tr>\n",
       "    <tr>\n",
       "      <th>mean</th>\n",
       "      <td>12.00000</td>\n",
       "      <td>43.782609</td>\n",
       "    </tr>\n",
       "    <tr>\n",
       "      <th>std</th>\n",
       "      <td>6.78233</td>\n",
       "      <td>26.381737</td>\n",
       "    </tr>\n",
       "    <tr>\n",
       "      <th>min</th>\n",
       "      <td>1.00000</td>\n",
       "      <td>4.000000</td>\n",
       "    </tr>\n",
       "    <tr>\n",
       "      <th>25%</th>\n",
       "      <td>6.50000</td>\n",
       "      <td>20.500000</td>\n",
       "    </tr>\n",
       "    <tr>\n",
       "      <th>50%</th>\n",
       "      <td>12.00000</td>\n",
       "      <td>39.000000</td>\n",
       "    </tr>\n",
       "    <tr>\n",
       "      <th>75%</th>\n",
       "      <td>17.50000</td>\n",
       "      <td>65.000000</td>\n",
       "    </tr>\n",
       "    <tr>\n",
       "      <th>max</th>\n",
       "      <td>23.00000</td>\n",
       "      <td>92.000000</td>\n",
       "    </tr>\n",
       "  </tbody>\n",
       "</table>\n",
       "</div>"
      ],
      "text/plain": [
       "       EmployeeID     CityID\n",
       "count    23.00000  23.000000\n",
       "mean     12.00000  43.782609\n",
       "std       6.78233  26.381737\n",
       "min       1.00000   4.000000\n",
       "25%       6.50000  20.500000\n",
       "50%      12.00000  39.000000\n",
       "75%      17.50000  65.000000\n",
       "max      23.00000  92.000000"
      ]
     },
     "execution_count": 97,
     "metadata": {},
     "output_type": "execute_result"
    }
   ],
   "source": [
    "employees.describe()"
   ]
  },
  {
   "cell_type": "markdown",
   "id": "ce828f7c",
   "metadata": {},
   "source": [
    "Hacemos left join de los DataFrame y casteamos las fechas a datetime"
   ]
  },
  {
   "cell_type": "code",
   "execution_count": 98,
   "id": "df0d4b9f",
   "metadata": {},
   "outputs": [
    {
     "data": {
      "application/vnd.microsoft.datawrangler.viewer.v0+json": {
       "columns": [
        {
         "name": "index",
         "rawType": "int64",
         "type": "integer"
        },
        {
         "name": "SalesID",
         "rawType": "int64",
         "type": "integer"
        },
        {
         "name": "SalesPersonID",
         "rawType": "int64",
         "type": "integer"
        },
        {
         "name": "CustomerID",
         "rawType": "int64",
         "type": "integer"
        },
        {
         "name": "ProductID",
         "rawType": "int64",
         "type": "integer"
        },
        {
         "name": "Quantity",
         "rawType": "int64",
         "type": "integer"
        },
        {
         "name": "Discount",
         "rawType": "float64",
         "type": "float"
        },
        {
         "name": "TotalPrice",
         "rawType": "float64",
         "type": "float"
        },
        {
         "name": "SalesDate",
         "rawType": "datetime64[ns]",
         "type": "datetime"
        },
        {
         "name": "TransactionNumber",
         "rawType": "object",
         "type": "string"
        },
        {
         "name": "Price",
         "rawType": "float64",
         "type": "float"
        },
        {
         "name": "TotalPriceCalculated",
         "rawType": "float64",
         "type": "float"
        },
        {
         "name": "IsOutlier",
         "rawType": "int64",
         "type": "integer"
        },
        {
         "name": "hora",
         "rawType": "int32",
         "type": "integer"
        },
        {
         "name": "DayOfWeek",
         "rawType": "int64",
         "type": "integer"
        },
        {
         "name": "EsFinDeSemana",
         "rawType": "int64",
         "type": "integer"
        },
        {
         "name": "EmployeeID",
         "rawType": "int64",
         "type": "integer"
        },
        {
         "name": "BirthDate",
         "rawType": "datetime64[ns]",
         "type": "datetime"
        },
        {
         "name": "Gender",
         "rawType": "object",
         "type": "string"
        },
        {
         "name": "CityID",
         "rawType": "int64",
         "type": "integer"
        },
        {
         "name": "HireDate",
         "rawType": "datetime64[ns]",
         "type": "datetime"
        }
       ],
       "ref": "0db254b7-ade7-47bb-84c3-44744fcadc8f",
       "rows": [
        [
         "0",
         "1",
         "6",
         "27039",
         "381",
         "7",
         "0.0",
         "0.0",
         "2018-02-05 07:38:25.430000",
         "FQL4S94E4ME1EZFTG42G",
         "44.2337",
         "309.6359",
         "0",
         "7",
         "0",
         "0",
         "6",
         "1987-01-13 00:00:00",
         "M",
         "65",
         "2013-06-22 13:20:18.080000"
        ],
        [
         "1",
         "2",
         "16",
         "25011",
         "61",
         "7",
         "0.0",
         "0.0",
         "2018-02-02 16:03:31.150000",
         "12UGLX40DJ1A5DTFBHB8",
         "62.546",
         "437.822",
         "0",
         "16",
         "4",
         "0",
         "16",
         "1951-07-07 00:00:00",
         "M",
         "28",
         "2017-02-10 11:21:26.650000"
        ],
        [
         "2",
         "3",
         "13",
         "94024",
         "23",
         "24",
         "0.0",
         "0.0",
         "2018-05-03 19:31:56.880000",
         "5DT8RCPL87KI5EORO7B0",
         "79.0184",
         "1896.4416",
         "0",
         "19",
         "3",
         "0",
         "13",
         "1963-04-18 00:00:00",
         "M",
         "68",
         "2011-12-12 10:43:52.940000"
        ],
        [
         "3",
         "4",
         "8",
         "73966",
         "176",
         "19",
         "0.2",
         "0.0",
         "2018-04-07 14:43:55.420000",
         "R3DR9MLD5NR76VO17ULE",
         "81.3167",
         "1236.01384",
         "0",
         "14",
         "5",
         "1",
         "8",
         "1956-12-13 00:00:00",
         "M",
         "18",
         "2014-10-14 23:12:53.420000"
        ],
        [
         "4",
         "5",
         "10",
         "32653",
         "310",
         "9",
         "0.0",
         "0.0",
         "2018-02-12 15:37:03.940000",
         "4BGS0Z5OMAZ8NDAFHHP3",
         "79.978",
         "719.8019999999999",
         "0",
         "15",
         "0",
         "0",
         "10",
         "1963-12-30 00:00:00",
         "M",
         "9",
         "2012-07-23 15:02:12.640000"
        ]
       ],
       "shape": {
        "columns": 20,
        "rows": 5
       }
      },
      "text/html": [
       "<div>\n",
       "<style scoped>\n",
       "    .dataframe tbody tr th:only-of-type {\n",
       "        vertical-align: middle;\n",
       "    }\n",
       "\n",
       "    .dataframe tbody tr th {\n",
       "        vertical-align: top;\n",
       "    }\n",
       "\n",
       "    .dataframe thead th {\n",
       "        text-align: right;\n",
       "    }\n",
       "</style>\n",
       "<table border=\"1\" class=\"dataframe\">\n",
       "  <thead>\n",
       "    <tr style=\"text-align: right;\">\n",
       "      <th></th>\n",
       "      <th>SalesID</th>\n",
       "      <th>SalesPersonID</th>\n",
       "      <th>CustomerID</th>\n",
       "      <th>ProductID</th>\n",
       "      <th>Quantity</th>\n",
       "      <th>Discount</th>\n",
       "      <th>TotalPrice</th>\n",
       "      <th>SalesDate</th>\n",
       "      <th>TransactionNumber</th>\n",
       "      <th>Price</th>\n",
       "      <th>TotalPriceCalculated</th>\n",
       "      <th>IsOutlier</th>\n",
       "      <th>hora</th>\n",
       "      <th>DayOfWeek</th>\n",
       "      <th>EsFinDeSemana</th>\n",
       "      <th>EmployeeID</th>\n",
       "      <th>BirthDate</th>\n",
       "      <th>Gender</th>\n",
       "      <th>CityID</th>\n",
       "      <th>HireDate</th>\n",
       "    </tr>\n",
       "  </thead>\n",
       "  <tbody>\n",
       "    <tr>\n",
       "      <th>0</th>\n",
       "      <td>1</td>\n",
       "      <td>6</td>\n",
       "      <td>27039</td>\n",
       "      <td>381</td>\n",
       "      <td>7</td>\n",
       "      <td>0.0</td>\n",
       "      <td>0.0</td>\n",
       "      <td>2018-02-05 07:38:25.430</td>\n",
       "      <td>FQL4S94E4ME1EZFTG42G</td>\n",
       "      <td>44.2337</td>\n",
       "      <td>309.63590</td>\n",
       "      <td>0</td>\n",
       "      <td>7</td>\n",
       "      <td>0</td>\n",
       "      <td>0</td>\n",
       "      <td>6</td>\n",
       "      <td>1987-01-13</td>\n",
       "      <td>M</td>\n",
       "      <td>65</td>\n",
       "      <td>2013-06-22 13:20:18.080</td>\n",
       "    </tr>\n",
       "    <tr>\n",
       "      <th>1</th>\n",
       "      <td>2</td>\n",
       "      <td>16</td>\n",
       "      <td>25011</td>\n",
       "      <td>61</td>\n",
       "      <td>7</td>\n",
       "      <td>0.0</td>\n",
       "      <td>0.0</td>\n",
       "      <td>2018-02-02 16:03:31.150</td>\n",
       "      <td>12UGLX40DJ1A5DTFBHB8</td>\n",
       "      <td>62.5460</td>\n",
       "      <td>437.82200</td>\n",
       "      <td>0</td>\n",
       "      <td>16</td>\n",
       "      <td>4</td>\n",
       "      <td>0</td>\n",
       "      <td>16</td>\n",
       "      <td>1951-07-07</td>\n",
       "      <td>M</td>\n",
       "      <td>28</td>\n",
       "      <td>2017-02-10 11:21:26.650</td>\n",
       "    </tr>\n",
       "    <tr>\n",
       "      <th>2</th>\n",
       "      <td>3</td>\n",
       "      <td>13</td>\n",
       "      <td>94024</td>\n",
       "      <td>23</td>\n",
       "      <td>24</td>\n",
       "      <td>0.0</td>\n",
       "      <td>0.0</td>\n",
       "      <td>2018-05-03 19:31:56.880</td>\n",
       "      <td>5DT8RCPL87KI5EORO7B0</td>\n",
       "      <td>79.0184</td>\n",
       "      <td>1896.44160</td>\n",
       "      <td>0</td>\n",
       "      <td>19</td>\n",
       "      <td>3</td>\n",
       "      <td>0</td>\n",
       "      <td>13</td>\n",
       "      <td>1963-04-18</td>\n",
       "      <td>M</td>\n",
       "      <td>68</td>\n",
       "      <td>2011-12-12 10:43:52.940</td>\n",
       "    </tr>\n",
       "    <tr>\n",
       "      <th>3</th>\n",
       "      <td>4</td>\n",
       "      <td>8</td>\n",
       "      <td>73966</td>\n",
       "      <td>176</td>\n",
       "      <td>19</td>\n",
       "      <td>0.2</td>\n",
       "      <td>0.0</td>\n",
       "      <td>2018-04-07 14:43:55.420</td>\n",
       "      <td>R3DR9MLD5NR76VO17ULE</td>\n",
       "      <td>81.3167</td>\n",
       "      <td>1236.01384</td>\n",
       "      <td>0</td>\n",
       "      <td>14</td>\n",
       "      <td>5</td>\n",
       "      <td>1</td>\n",
       "      <td>8</td>\n",
       "      <td>1956-12-13</td>\n",
       "      <td>M</td>\n",
       "      <td>18</td>\n",
       "      <td>2014-10-14 23:12:53.420</td>\n",
       "    </tr>\n",
       "    <tr>\n",
       "      <th>4</th>\n",
       "      <td>5</td>\n",
       "      <td>10</td>\n",
       "      <td>32653</td>\n",
       "      <td>310</td>\n",
       "      <td>9</td>\n",
       "      <td>0.0</td>\n",
       "      <td>0.0</td>\n",
       "      <td>2018-02-12 15:37:03.940</td>\n",
       "      <td>4BGS0Z5OMAZ8NDAFHHP3</td>\n",
       "      <td>79.9780</td>\n",
       "      <td>719.80200</td>\n",
       "      <td>0</td>\n",
       "      <td>15</td>\n",
       "      <td>0</td>\n",
       "      <td>0</td>\n",
       "      <td>10</td>\n",
       "      <td>1963-12-30</td>\n",
       "      <td>M</td>\n",
       "      <td>9</td>\n",
       "      <td>2012-07-23 15:02:12.640</td>\n",
       "    </tr>\n",
       "  </tbody>\n",
       "</table>\n",
       "</div>"
      ],
      "text/plain": [
       "   SalesID  SalesPersonID  CustomerID  ProductID  Quantity  Discount  \\\n",
       "0        1              6       27039        381         7       0.0   \n",
       "1        2             16       25011         61         7       0.0   \n",
       "2        3             13       94024         23        24       0.0   \n",
       "3        4              8       73966        176        19       0.2   \n",
       "4        5             10       32653        310         9       0.0   \n",
       "\n",
       "   TotalPrice               SalesDate     TransactionNumber    Price  \\\n",
       "0         0.0 2018-02-05 07:38:25.430  FQL4S94E4ME1EZFTG42G  44.2337   \n",
       "1         0.0 2018-02-02 16:03:31.150  12UGLX40DJ1A5DTFBHB8  62.5460   \n",
       "2         0.0 2018-05-03 19:31:56.880  5DT8RCPL87KI5EORO7B0  79.0184   \n",
       "3         0.0 2018-04-07 14:43:55.420  R3DR9MLD5NR76VO17ULE  81.3167   \n",
       "4         0.0 2018-02-12 15:37:03.940  4BGS0Z5OMAZ8NDAFHHP3  79.9780   \n",
       "\n",
       "   TotalPriceCalculated  IsOutlier  hora  DayOfWeek  EsFinDeSemana  \\\n",
       "0             309.63590          0     7          0              0   \n",
       "1             437.82200          0    16          4              0   \n",
       "2            1896.44160          0    19          3              0   \n",
       "3            1236.01384          0    14          5              1   \n",
       "4             719.80200          0    15          0              0   \n",
       "\n",
       "   EmployeeID  BirthDate Gender  CityID                HireDate  \n",
       "0           6 1987-01-13      M      65 2013-06-22 13:20:18.080  \n",
       "1          16 1951-07-07      M      28 2017-02-10 11:21:26.650  \n",
       "2          13 1963-04-18      M      68 2011-12-12 10:43:52.940  \n",
       "3           8 1956-12-13      M      18 2014-10-14 23:12:53.420  \n",
       "4          10 1963-12-30      M       9 2012-07-23 15:02:12.640  "
      ]
     },
     "execution_count": 98,
     "metadata": {},
     "output_type": "execute_result"
    }
   ],
   "source": [
    "sales_products_employees = pd.merge(sales_products, employees[[\"EmployeeID\",\"BirthDate\",\"Gender\",\"CityID\",\"HireDate\"]], left_on=\"SalesPersonID\", right_on=\"EmployeeID\", how=\"left\")  \n",
    "\n",
    "# convierto las fechas a datetime para evitar errores\n",
    "sales_products_employees[\"BirthDate\"] = pd.to_datetime(sales_products_employees[\"BirthDate\"], errors=\"coerce\")\n",
    "sales_products_employees[\"HireDate\"] = pd.to_datetime(sales_products_employees[\"HireDate\"], errors=\"coerce\")\n",
    "\n",
    "sales_products_employees.head()"
   ]
  },
  {
   "cell_type": "code",
   "execution_count": 99,
   "id": "f234abcf",
   "metadata": {},
   "outputs": [
    {
     "data": {
      "application/vnd.microsoft.datawrangler.viewer.v0+json": {
       "columns": [
        {
         "name": "index",
         "rawType": "object",
         "type": "string"
        },
        {
         "name": "0",
         "rawType": "int64",
         "type": "integer"
        }
       ],
       "ref": "5a5d1e7a-1788-476b-96a0-77f3fa5e66c5",
       "rows": [
        [
         "SalesID",
         "0"
        ],
        [
         "SalesPersonID",
         "0"
        ],
        [
         "CustomerID",
         "0"
        ],
        [
         "ProductID",
         "0"
        ],
        [
         "Quantity",
         "0"
        ],
        [
         "Discount",
         "0"
        ],
        [
         "TotalPrice",
         "0"
        ],
        [
         "SalesDate",
         "0"
        ],
        [
         "TransactionNumber",
         "0"
        ],
        [
         "Price",
         "0"
        ],
        [
         "TotalPriceCalculated",
         "0"
        ],
        [
         "IsOutlier",
         "0"
        ],
        [
         "hora",
         "0"
        ],
        [
         "DayOfWeek",
         "0"
        ],
        [
         "EsFinDeSemana",
         "0"
        ],
        [
         "EmployeeID",
         "0"
        ],
        [
         "BirthDate",
         "0"
        ],
        [
         "Gender",
         "0"
        ],
        [
         "CityID",
         "0"
        ],
        [
         "HireDate",
         "0"
        ]
       ],
       "shape": {
        "columns": 1,
        "rows": 20
       }
      },
      "text/plain": [
       "SalesID                 0\n",
       "SalesPersonID           0\n",
       "CustomerID              0\n",
       "ProductID               0\n",
       "Quantity                0\n",
       "Discount                0\n",
       "TotalPrice              0\n",
       "SalesDate               0\n",
       "TransactionNumber       0\n",
       "Price                   0\n",
       "TotalPriceCalculated    0\n",
       "IsOutlier               0\n",
       "hora                    0\n",
       "DayOfWeek               0\n",
       "EsFinDeSemana           0\n",
       "EmployeeID              0\n",
       "BirthDate               0\n",
       "Gender                  0\n",
       "CityID                  0\n",
       "HireDate                0\n",
       "dtype: int64"
      ]
     },
     "execution_count": 99,
     "metadata": {},
     "output_type": "execute_result"
    }
   ],
   "source": [
    "sales_products_employees.isnull().sum()"
   ]
  },
  {
   "cell_type": "markdown",
   "id": "2870d543",
   "metadata": {},
   "source": [
    "A pesar de ser un left-join observamos que no hay valores nulos."
   ]
  },
  {
   "cell_type": "code",
   "execution_count": 100,
   "id": "3acc1012",
   "metadata": {},
   "outputs": [
    {
     "data": {
      "application/vnd.microsoft.datawrangler.viewer.v0+json": {
       "columns": [
        {
         "name": "index",
         "rawType": "int64",
         "type": "integer"
        },
        {
         "name": "SalesID",
         "rawType": "int64",
         "type": "integer"
        },
        {
         "name": "SalesPersonID",
         "rawType": "int64",
         "type": "integer"
        },
        {
         "name": "CustomerID",
         "rawType": "int64",
         "type": "integer"
        },
        {
         "name": "ProductID",
         "rawType": "int64",
         "type": "integer"
        },
        {
         "name": "Quantity",
         "rawType": "int64",
         "type": "integer"
        },
        {
         "name": "Discount",
         "rawType": "float64",
         "type": "float"
        },
        {
         "name": "TotalPrice",
         "rawType": "float64",
         "type": "float"
        },
        {
         "name": "SalesDate",
         "rawType": "datetime64[ns]",
         "type": "datetime"
        },
        {
         "name": "TransactionNumber",
         "rawType": "object",
         "type": "string"
        },
        {
         "name": "Price",
         "rawType": "float64",
         "type": "float"
        },
        {
         "name": "TotalPriceCalculated",
         "rawType": "float64",
         "type": "float"
        },
        {
         "name": "IsOutlier",
         "rawType": "int64",
         "type": "integer"
        },
        {
         "name": "hora",
         "rawType": "int32",
         "type": "integer"
        },
        {
         "name": "DayOfWeek",
         "rawType": "int64",
         "type": "integer"
        },
        {
         "name": "EsFinDeSemana",
         "rawType": "int64",
         "type": "integer"
        },
        {
         "name": "EmployeeID",
         "rawType": "int64",
         "type": "integer"
        },
        {
         "name": "BirthDate",
         "rawType": "datetime64[ns]",
         "type": "datetime"
        },
        {
         "name": "Gender",
         "rawType": "object",
         "type": "string"
        },
        {
         "name": "CityID",
         "rawType": "int64",
         "type": "integer"
        },
        {
         "name": "HireDate",
         "rawType": "datetime64[ns]",
         "type": "datetime"
        },
        {
         "name": "EdadAlContratar",
         "rawType": "int64",
         "type": "integer"
        },
        {
         "name": "AñosExperienciaAlVender",
         "rawType": "int64",
         "type": "integer"
        }
       ],
       "ref": "7d0ca6b4-d853-4181-8898-e4fe29fc2ca3",
       "rows": [
        [
         "0",
         "1",
         "6",
         "27039",
         "381",
         "7",
         "0.0",
         "0.0",
         "2018-02-05 07:38:25.430000",
         "FQL4S94E4ME1EZFTG42G",
         "44.2337",
         "309.6359",
         "0",
         "7",
         "0",
         "0",
         "6",
         "1987-01-13 00:00:00",
         "M",
         "65",
         "2013-06-22 13:20:18.080000",
         "26",
         "4"
        ],
        [
         "1",
         "2",
         "16",
         "25011",
         "61",
         "7",
         "0.0",
         "0.0",
         "2018-02-02 16:03:31.150000",
         "12UGLX40DJ1A5DTFBHB8",
         "62.546",
         "437.822",
         "0",
         "16",
         "4",
         "0",
         "16",
         "1951-07-07 00:00:00",
         "M",
         "28",
         "2017-02-10 11:21:26.650000",
         "65",
         "0"
        ],
        [
         "2",
         "3",
         "13",
         "94024",
         "23",
         "24",
         "0.0",
         "0.0",
         "2018-05-03 19:31:56.880000",
         "5DT8RCPL87KI5EORO7B0",
         "79.0184",
         "1896.4416",
         "0",
         "19",
         "3",
         "0",
         "13",
         "1963-04-18 00:00:00",
         "M",
         "68",
         "2011-12-12 10:43:52.940000",
         "48",
         "6"
        ],
        [
         "3",
         "4",
         "8",
         "73966",
         "176",
         "19",
         "0.2",
         "0.0",
         "2018-04-07 14:43:55.420000",
         "R3DR9MLD5NR76VO17ULE",
         "81.3167",
         "1236.01384",
         "0",
         "14",
         "5",
         "1",
         "8",
         "1956-12-13 00:00:00",
         "M",
         "18",
         "2014-10-14 23:12:53.420000",
         "57",
         "3"
        ],
        [
         "4",
         "5",
         "10",
         "32653",
         "310",
         "9",
         "0.0",
         "0.0",
         "2018-02-12 15:37:03.940000",
         "4BGS0Z5OMAZ8NDAFHHP3",
         "79.978",
         "719.8019999999999",
         "0",
         "15",
         "0",
         "0",
         "10",
         "1963-12-30 00:00:00",
         "M",
         "9",
         "2012-07-23 15:02:12.640000",
         "48",
         "5"
        ]
       ],
       "shape": {
        "columns": 22,
        "rows": 5
       }
      },
      "text/html": [
       "<div>\n",
       "<style scoped>\n",
       "    .dataframe tbody tr th:only-of-type {\n",
       "        vertical-align: middle;\n",
       "    }\n",
       "\n",
       "    .dataframe tbody tr th {\n",
       "        vertical-align: top;\n",
       "    }\n",
       "\n",
       "    .dataframe thead th {\n",
       "        text-align: right;\n",
       "    }\n",
       "</style>\n",
       "<table border=\"1\" class=\"dataframe\">\n",
       "  <thead>\n",
       "    <tr style=\"text-align: right;\">\n",
       "      <th></th>\n",
       "      <th>SalesID</th>\n",
       "      <th>SalesPersonID</th>\n",
       "      <th>CustomerID</th>\n",
       "      <th>ProductID</th>\n",
       "      <th>Quantity</th>\n",
       "      <th>Discount</th>\n",
       "      <th>TotalPrice</th>\n",
       "      <th>SalesDate</th>\n",
       "      <th>TransactionNumber</th>\n",
       "      <th>Price</th>\n",
       "      <th>...</th>\n",
       "      <th>hora</th>\n",
       "      <th>DayOfWeek</th>\n",
       "      <th>EsFinDeSemana</th>\n",
       "      <th>EmployeeID</th>\n",
       "      <th>BirthDate</th>\n",
       "      <th>Gender</th>\n",
       "      <th>CityID</th>\n",
       "      <th>HireDate</th>\n",
       "      <th>EdadAlContratar</th>\n",
       "      <th>AñosExperienciaAlVender</th>\n",
       "    </tr>\n",
       "  </thead>\n",
       "  <tbody>\n",
       "    <tr>\n",
       "      <th>0</th>\n",
       "      <td>1</td>\n",
       "      <td>6</td>\n",
       "      <td>27039</td>\n",
       "      <td>381</td>\n",
       "      <td>7</td>\n",
       "      <td>0.0</td>\n",
       "      <td>0.0</td>\n",
       "      <td>2018-02-05 07:38:25.430</td>\n",
       "      <td>FQL4S94E4ME1EZFTG42G</td>\n",
       "      <td>44.2337</td>\n",
       "      <td>...</td>\n",
       "      <td>7</td>\n",
       "      <td>0</td>\n",
       "      <td>0</td>\n",
       "      <td>6</td>\n",
       "      <td>1987-01-13</td>\n",
       "      <td>M</td>\n",
       "      <td>65</td>\n",
       "      <td>2013-06-22 13:20:18.080</td>\n",
       "      <td>26</td>\n",
       "      <td>4</td>\n",
       "    </tr>\n",
       "    <tr>\n",
       "      <th>1</th>\n",
       "      <td>2</td>\n",
       "      <td>16</td>\n",
       "      <td>25011</td>\n",
       "      <td>61</td>\n",
       "      <td>7</td>\n",
       "      <td>0.0</td>\n",
       "      <td>0.0</td>\n",
       "      <td>2018-02-02 16:03:31.150</td>\n",
       "      <td>12UGLX40DJ1A5DTFBHB8</td>\n",
       "      <td>62.5460</td>\n",
       "      <td>...</td>\n",
       "      <td>16</td>\n",
       "      <td>4</td>\n",
       "      <td>0</td>\n",
       "      <td>16</td>\n",
       "      <td>1951-07-07</td>\n",
       "      <td>M</td>\n",
       "      <td>28</td>\n",
       "      <td>2017-02-10 11:21:26.650</td>\n",
       "      <td>65</td>\n",
       "      <td>0</td>\n",
       "    </tr>\n",
       "    <tr>\n",
       "      <th>2</th>\n",
       "      <td>3</td>\n",
       "      <td>13</td>\n",
       "      <td>94024</td>\n",
       "      <td>23</td>\n",
       "      <td>24</td>\n",
       "      <td>0.0</td>\n",
       "      <td>0.0</td>\n",
       "      <td>2018-05-03 19:31:56.880</td>\n",
       "      <td>5DT8RCPL87KI5EORO7B0</td>\n",
       "      <td>79.0184</td>\n",
       "      <td>...</td>\n",
       "      <td>19</td>\n",
       "      <td>3</td>\n",
       "      <td>0</td>\n",
       "      <td>13</td>\n",
       "      <td>1963-04-18</td>\n",
       "      <td>M</td>\n",
       "      <td>68</td>\n",
       "      <td>2011-12-12 10:43:52.940</td>\n",
       "      <td>48</td>\n",
       "      <td>6</td>\n",
       "    </tr>\n",
       "    <tr>\n",
       "      <th>3</th>\n",
       "      <td>4</td>\n",
       "      <td>8</td>\n",
       "      <td>73966</td>\n",
       "      <td>176</td>\n",
       "      <td>19</td>\n",
       "      <td>0.2</td>\n",
       "      <td>0.0</td>\n",
       "      <td>2018-04-07 14:43:55.420</td>\n",
       "      <td>R3DR9MLD5NR76VO17ULE</td>\n",
       "      <td>81.3167</td>\n",
       "      <td>...</td>\n",
       "      <td>14</td>\n",
       "      <td>5</td>\n",
       "      <td>1</td>\n",
       "      <td>8</td>\n",
       "      <td>1956-12-13</td>\n",
       "      <td>M</td>\n",
       "      <td>18</td>\n",
       "      <td>2014-10-14 23:12:53.420</td>\n",
       "      <td>57</td>\n",
       "      <td>3</td>\n",
       "    </tr>\n",
       "    <tr>\n",
       "      <th>4</th>\n",
       "      <td>5</td>\n",
       "      <td>10</td>\n",
       "      <td>32653</td>\n",
       "      <td>310</td>\n",
       "      <td>9</td>\n",
       "      <td>0.0</td>\n",
       "      <td>0.0</td>\n",
       "      <td>2018-02-12 15:37:03.940</td>\n",
       "      <td>4BGS0Z5OMAZ8NDAFHHP3</td>\n",
       "      <td>79.9780</td>\n",
       "      <td>...</td>\n",
       "      <td>15</td>\n",
       "      <td>0</td>\n",
       "      <td>0</td>\n",
       "      <td>10</td>\n",
       "      <td>1963-12-30</td>\n",
       "      <td>M</td>\n",
       "      <td>9</td>\n",
       "      <td>2012-07-23 15:02:12.640</td>\n",
       "      <td>48</td>\n",
       "      <td>5</td>\n",
       "    </tr>\n",
       "  </tbody>\n",
       "</table>\n",
       "<p>5 rows × 22 columns</p>\n",
       "</div>"
      ],
      "text/plain": [
       "   SalesID  SalesPersonID  CustomerID  ProductID  Quantity  Discount  \\\n",
       "0        1              6       27039        381         7       0.0   \n",
       "1        2             16       25011         61         7       0.0   \n",
       "2        3             13       94024         23        24       0.0   \n",
       "3        4              8       73966        176        19       0.2   \n",
       "4        5             10       32653        310         9       0.0   \n",
       "\n",
       "   TotalPrice               SalesDate     TransactionNumber    Price  ...  \\\n",
       "0         0.0 2018-02-05 07:38:25.430  FQL4S94E4ME1EZFTG42G  44.2337  ...   \n",
       "1         0.0 2018-02-02 16:03:31.150  12UGLX40DJ1A5DTFBHB8  62.5460  ...   \n",
       "2         0.0 2018-05-03 19:31:56.880  5DT8RCPL87KI5EORO7B0  79.0184  ...   \n",
       "3         0.0 2018-04-07 14:43:55.420  R3DR9MLD5NR76VO17ULE  81.3167  ...   \n",
       "4         0.0 2018-02-12 15:37:03.940  4BGS0Z5OMAZ8NDAFHHP3  79.9780  ...   \n",
       "\n",
       "   hora  DayOfWeek  EsFinDeSemana  EmployeeID  BirthDate  Gender CityID  \\\n",
       "0     7          0              0           6 1987-01-13       M     65   \n",
       "1    16          4              0          16 1951-07-07       M     28   \n",
       "2    19          3              0          13 1963-04-18       M     68   \n",
       "3    14          5              1           8 1956-12-13       M     18   \n",
       "4    15          0              0          10 1963-12-30       M      9   \n",
       "\n",
       "                 HireDate  EdadAlContratar AñosExperienciaAlVender  \n",
       "0 2013-06-22 13:20:18.080               26                       4  \n",
       "1 2017-02-10 11:21:26.650               65                       0  \n",
       "2 2011-12-12 10:43:52.940               48                       6  \n",
       "3 2014-10-14 23:12:53.420               57                       3  \n",
       "4 2012-07-23 15:02:12.640               48                       5  \n",
       "\n",
       "[5 rows x 22 columns]"
      ]
     },
     "execution_count": 100,
     "metadata": {},
     "output_type": "execute_result"
    }
   ],
   "source": [
    "sales_products_employees[\"EdadAlContratar\"] = ((sales_products_employees[\"HireDate\"] - sales_products_employees[\"BirthDate\"]).dt.days // 365).astype(int)\n",
    "\n",
    "sales_products_employees[\"AñosExperienciaAlVender\"] = ((sales_products_employees[\"SalesDate\"] - sales_products_employees[\"HireDate\"]).dt.days // 365).astype(int)\n",
    "\n",
    "sales_products_employees.head()"
   ]
  },
  {
   "cell_type": "markdown",
   "id": "8bb84eaf",
   "metadata": {},
   "source": [
    "<h3 style=\"color:red;\">5. Prepara un único dataset definitivo para modelado que combine información relevante de las tablas disponibles.</h3>\n",
    "\n",
    "<h3 style=\"color:red;\">Incluye las features que se han calculado previamente.</h3>\n",
    "\n",
    "<h3 style=\"color:red;\">Aplica transformaciones adecuadas a las variables categóricas y a las variables numéricas (si lo consideras necesario) </h3>\n",
    "<h3 style=\"color:red;\">para dejar los datos listos para ser utilizados por un modelo de machine learning.</h3>\n",
    "\n",
    "<h3 style=\"color:red;\">Justifica las transformaciones realizadas. La variable objetivo es TotalPriceCalculated, por lo que debe quedar sin transformaciones.</h3>"
   ]
  },
  {
   "cell_type": "markdown",
   "id": "f44cf35e",
   "metadata": {},
   "source": [
    "Incorporamos al DataFrame las categorias desde otras tablas que podrian ser utilizadas por un modelo de machine learning:"
   ]
  },
  {
   "cell_type": "code",
   "execution_count": 101,
   "id": "cfc7e4b2",
   "metadata": {},
   "outputs": [],
   "source": [
    "df = sales_products_employees.merge(\n",
    "    products[[\"ProductID\",\"CategoryID\",\"Class\",\"Resistant\",\"IsAllergic\",\"VitalityDays\"]],\n",
    "    on=\"ProductID\",\n",
    "    how=\"left\"\n",
    ")\n",
    "\n",
    "df = df.merge(\n",
    "    categories[[\"CategoryID\",\"CategoryName\"]],\n",
    "    on=\"CategoryID\",\n",
    "    how=\"left\"\n",
    ")\n",
    "\n",
    "df = df.merge(\n",
    "    customers[[\"CustomerID\",\"CityID\"]].rename(columns={\"CityID\": \"CityID_Customer\"}),\n",
    "    on=\"CustomerID\",\n",
    "    how=\"left\"\n",
    ")"
   ]
  },
  {
   "cell_type": "code",
   "execution_count": 102,
   "id": "99894925",
   "metadata": {},
   "outputs": [
    {
     "data": {
      "application/vnd.microsoft.datawrangler.viewer.v0+json": {
       "columns": [
        {
         "name": "index",
         "rawType": "int64",
         "type": "integer"
        },
        {
         "name": "SalesID",
         "rawType": "int64",
         "type": "integer"
        },
        {
         "name": "SalesPersonID",
         "rawType": "int64",
         "type": "integer"
        },
        {
         "name": "CustomerID",
         "rawType": "int64",
         "type": "integer"
        },
        {
         "name": "ProductID",
         "rawType": "int64",
         "type": "integer"
        },
        {
         "name": "Quantity",
         "rawType": "int64",
         "type": "integer"
        },
        {
         "name": "Discount",
         "rawType": "float64",
         "type": "float"
        },
        {
         "name": "TotalPrice",
         "rawType": "float64",
         "type": "float"
        },
        {
         "name": "SalesDate",
         "rawType": "datetime64[ns]",
         "type": "datetime"
        },
        {
         "name": "TransactionNumber",
         "rawType": "object",
         "type": "string"
        },
        {
         "name": "Price",
         "rawType": "float64",
         "type": "float"
        },
        {
         "name": "TotalPriceCalculated",
         "rawType": "float64",
         "type": "float"
        },
        {
         "name": "IsOutlier",
         "rawType": "int64",
         "type": "integer"
        },
        {
         "name": "hora",
         "rawType": "int32",
         "type": "integer"
        },
        {
         "name": "DayOfWeek",
         "rawType": "int64",
         "type": "integer"
        },
        {
         "name": "EsFinDeSemana",
         "rawType": "int64",
         "type": "integer"
        },
        {
         "name": "EmployeeID",
         "rawType": "int64",
         "type": "integer"
        },
        {
         "name": "BirthDate",
         "rawType": "datetime64[ns]",
         "type": "datetime"
        },
        {
         "name": "Gender",
         "rawType": "object",
         "type": "string"
        },
        {
         "name": "CityID",
         "rawType": "int64",
         "type": "integer"
        },
        {
         "name": "HireDate",
         "rawType": "datetime64[ns]",
         "type": "datetime"
        },
        {
         "name": "EdadAlContratar",
         "rawType": "int64",
         "type": "integer"
        },
        {
         "name": "AñosExperienciaAlVender",
         "rawType": "int64",
         "type": "integer"
        },
        {
         "name": "CategoryID",
         "rawType": "int64",
         "type": "integer"
        },
        {
         "name": "Class",
         "rawType": "object",
         "type": "string"
        },
        {
         "name": "Resistant",
         "rawType": "object",
         "type": "string"
        },
        {
         "name": "IsAllergic",
         "rawType": "object",
         "type": "string"
        },
        {
         "name": "VitalityDays",
         "rawType": "int64",
         "type": "integer"
        },
        {
         "name": "CategoryName",
         "rawType": "object",
         "type": "string"
        },
        {
         "name": "CityID_Customer",
         "rawType": "int64",
         "type": "integer"
        }
       ],
       "ref": "8f7f51cf-9628-4478-a7a1-f1cab878edcd",
       "rows": [
        [
         "0",
         "1",
         "6",
         "27039",
         "381",
         "7",
         "0.0",
         "0.0",
         "2018-02-05 07:38:25.430000",
         "FQL4S94E4ME1EZFTG42G",
         "44.2337",
         "309.6359",
         "0",
         "7",
         "0",
         "0",
         "6",
         "1987-01-13 00:00:00",
         "M",
         "65",
         "2013-06-22 13:20:18.080000",
         "26",
         "4",
         "1",
         "High",
         "Unknown",
         "Unknown",
         "41",
         "Confections",
         "54"
        ],
        [
         "1",
         "2",
         "16",
         "25011",
         "61",
         "7",
         "0.0",
         "0.0",
         "2018-02-02 16:03:31.150000",
         "12UGLX40DJ1A5DTFBHB8",
         "62.546",
         "437.822",
         "0",
         "16",
         "4",
         "0",
         "16",
         "1951-07-07 00:00:00",
         "M",
         "28",
         "2017-02-10 11:21:26.650000",
         "65",
         "0",
         "8",
         "Low",
         "Durable",
         "FALSE",
         "90",
         "Grain",
         "71"
        ],
        [
         "2",
         "3",
         "13",
         "94024",
         "23",
         "24",
         "0.0",
         "0.0",
         "2018-05-03 19:31:56.880000",
         "5DT8RCPL87KI5EORO7B0",
         "79.0184",
         "1896.4416",
         "0",
         "19",
         "3",
         "0",
         "13",
         "1963-04-18 00:00:00",
         "M",
         "68",
         "2011-12-12 10:43:52.940000",
         "48",
         "6",
         "11",
         "Medium",
         "Durable",
         "TRUE",
         "0",
         "Produce",
         "2"
        ],
        [
         "3",
         "4",
         "8",
         "73966",
         "176",
         "19",
         "0.2",
         "0.0",
         "2018-04-07 14:43:55.420000",
         "R3DR9MLD5NR76VO17ULE",
         "81.3167",
         "1236.01384",
         "0",
         "14",
         "5",
         "1",
         "8",
         "1956-12-13 00:00:00",
         "M",
         "18",
         "2014-10-14 23:12:53.420000",
         "57",
         "3",
         "6",
         "High",
         "Durable",
         "TRUE",
         "90",
         "Seafood",
         "45"
        ],
        [
         "4",
         "5",
         "10",
         "32653",
         "310",
         "9",
         "0.0",
         "0.0",
         "2018-02-12 15:37:03.940000",
         "4BGS0Z5OMAZ8NDAFHHP3",
         "79.978",
         "719.8019999999999",
         "0",
         "15",
         "0",
         "0",
         "10",
         "1963-12-30 00:00:00",
         "M",
         "9",
         "2012-07-23 15:02:12.640000",
         "48",
         "5",
         "9",
         "Low",
         "Weak",
         "FALSE",
         "0",
         "Poultry",
         "82"
        ]
       ],
       "shape": {
        "columns": 29,
        "rows": 5
       }
      },
      "text/html": [
       "<div>\n",
       "<style scoped>\n",
       "    .dataframe tbody tr th:only-of-type {\n",
       "        vertical-align: middle;\n",
       "    }\n",
       "\n",
       "    .dataframe tbody tr th {\n",
       "        vertical-align: top;\n",
       "    }\n",
       "\n",
       "    .dataframe thead th {\n",
       "        text-align: right;\n",
       "    }\n",
       "</style>\n",
       "<table border=\"1\" class=\"dataframe\">\n",
       "  <thead>\n",
       "    <tr style=\"text-align: right;\">\n",
       "      <th></th>\n",
       "      <th>SalesID</th>\n",
       "      <th>SalesPersonID</th>\n",
       "      <th>CustomerID</th>\n",
       "      <th>ProductID</th>\n",
       "      <th>Quantity</th>\n",
       "      <th>Discount</th>\n",
       "      <th>TotalPrice</th>\n",
       "      <th>SalesDate</th>\n",
       "      <th>TransactionNumber</th>\n",
       "      <th>Price</th>\n",
       "      <th>...</th>\n",
       "      <th>HireDate</th>\n",
       "      <th>EdadAlContratar</th>\n",
       "      <th>AñosExperienciaAlVender</th>\n",
       "      <th>CategoryID</th>\n",
       "      <th>Class</th>\n",
       "      <th>Resistant</th>\n",
       "      <th>IsAllergic</th>\n",
       "      <th>VitalityDays</th>\n",
       "      <th>CategoryName</th>\n",
       "      <th>CityID_Customer</th>\n",
       "    </tr>\n",
       "  </thead>\n",
       "  <tbody>\n",
       "    <tr>\n",
       "      <th>0</th>\n",
       "      <td>1</td>\n",
       "      <td>6</td>\n",
       "      <td>27039</td>\n",
       "      <td>381</td>\n",
       "      <td>7</td>\n",
       "      <td>0.0</td>\n",
       "      <td>0.0</td>\n",
       "      <td>2018-02-05 07:38:25.430</td>\n",
       "      <td>FQL4S94E4ME1EZFTG42G</td>\n",
       "      <td>44.2337</td>\n",
       "      <td>...</td>\n",
       "      <td>2013-06-22 13:20:18.080</td>\n",
       "      <td>26</td>\n",
       "      <td>4</td>\n",
       "      <td>1</td>\n",
       "      <td>High</td>\n",
       "      <td>Unknown</td>\n",
       "      <td>Unknown</td>\n",
       "      <td>41</td>\n",
       "      <td>Confections</td>\n",
       "      <td>54</td>\n",
       "    </tr>\n",
       "    <tr>\n",
       "      <th>1</th>\n",
       "      <td>2</td>\n",
       "      <td>16</td>\n",
       "      <td>25011</td>\n",
       "      <td>61</td>\n",
       "      <td>7</td>\n",
       "      <td>0.0</td>\n",
       "      <td>0.0</td>\n",
       "      <td>2018-02-02 16:03:31.150</td>\n",
       "      <td>12UGLX40DJ1A5DTFBHB8</td>\n",
       "      <td>62.5460</td>\n",
       "      <td>...</td>\n",
       "      <td>2017-02-10 11:21:26.650</td>\n",
       "      <td>65</td>\n",
       "      <td>0</td>\n",
       "      <td>8</td>\n",
       "      <td>Low</td>\n",
       "      <td>Durable</td>\n",
       "      <td>FALSE</td>\n",
       "      <td>90</td>\n",
       "      <td>Grain</td>\n",
       "      <td>71</td>\n",
       "    </tr>\n",
       "    <tr>\n",
       "      <th>2</th>\n",
       "      <td>3</td>\n",
       "      <td>13</td>\n",
       "      <td>94024</td>\n",
       "      <td>23</td>\n",
       "      <td>24</td>\n",
       "      <td>0.0</td>\n",
       "      <td>0.0</td>\n",
       "      <td>2018-05-03 19:31:56.880</td>\n",
       "      <td>5DT8RCPL87KI5EORO7B0</td>\n",
       "      <td>79.0184</td>\n",
       "      <td>...</td>\n",
       "      <td>2011-12-12 10:43:52.940</td>\n",
       "      <td>48</td>\n",
       "      <td>6</td>\n",
       "      <td>11</td>\n",
       "      <td>Medium</td>\n",
       "      <td>Durable</td>\n",
       "      <td>TRUE</td>\n",
       "      <td>0</td>\n",
       "      <td>Produce</td>\n",
       "      <td>2</td>\n",
       "    </tr>\n",
       "    <tr>\n",
       "      <th>3</th>\n",
       "      <td>4</td>\n",
       "      <td>8</td>\n",
       "      <td>73966</td>\n",
       "      <td>176</td>\n",
       "      <td>19</td>\n",
       "      <td>0.2</td>\n",
       "      <td>0.0</td>\n",
       "      <td>2018-04-07 14:43:55.420</td>\n",
       "      <td>R3DR9MLD5NR76VO17ULE</td>\n",
       "      <td>81.3167</td>\n",
       "      <td>...</td>\n",
       "      <td>2014-10-14 23:12:53.420</td>\n",
       "      <td>57</td>\n",
       "      <td>3</td>\n",
       "      <td>6</td>\n",
       "      <td>High</td>\n",
       "      <td>Durable</td>\n",
       "      <td>TRUE</td>\n",
       "      <td>90</td>\n",
       "      <td>Seafood</td>\n",
       "      <td>45</td>\n",
       "    </tr>\n",
       "    <tr>\n",
       "      <th>4</th>\n",
       "      <td>5</td>\n",
       "      <td>10</td>\n",
       "      <td>32653</td>\n",
       "      <td>310</td>\n",
       "      <td>9</td>\n",
       "      <td>0.0</td>\n",
       "      <td>0.0</td>\n",
       "      <td>2018-02-12 15:37:03.940</td>\n",
       "      <td>4BGS0Z5OMAZ8NDAFHHP3</td>\n",
       "      <td>79.9780</td>\n",
       "      <td>...</td>\n",
       "      <td>2012-07-23 15:02:12.640</td>\n",
       "      <td>48</td>\n",
       "      <td>5</td>\n",
       "      <td>9</td>\n",
       "      <td>Low</td>\n",
       "      <td>Weak</td>\n",
       "      <td>FALSE</td>\n",
       "      <td>0</td>\n",
       "      <td>Poultry</td>\n",
       "      <td>82</td>\n",
       "    </tr>\n",
       "  </tbody>\n",
       "</table>\n",
       "<p>5 rows × 29 columns</p>\n",
       "</div>"
      ],
      "text/plain": [
       "   SalesID  SalesPersonID  CustomerID  ProductID  Quantity  Discount  \\\n",
       "0        1              6       27039        381         7       0.0   \n",
       "1        2             16       25011         61         7       0.0   \n",
       "2        3             13       94024         23        24       0.0   \n",
       "3        4              8       73966        176        19       0.2   \n",
       "4        5             10       32653        310         9       0.0   \n",
       "\n",
       "   TotalPrice               SalesDate     TransactionNumber    Price  ...  \\\n",
       "0         0.0 2018-02-05 07:38:25.430  FQL4S94E4ME1EZFTG42G  44.2337  ...   \n",
       "1         0.0 2018-02-02 16:03:31.150  12UGLX40DJ1A5DTFBHB8  62.5460  ...   \n",
       "2         0.0 2018-05-03 19:31:56.880  5DT8RCPL87KI5EORO7B0  79.0184  ...   \n",
       "3         0.0 2018-04-07 14:43:55.420  R3DR9MLD5NR76VO17ULE  81.3167  ...   \n",
       "4         0.0 2018-02-12 15:37:03.940  4BGS0Z5OMAZ8NDAFHHP3  79.9780  ...   \n",
       "\n",
       "                 HireDate  EdadAlContratar  AñosExperienciaAlVender  \\\n",
       "0 2013-06-22 13:20:18.080               26                        4   \n",
       "1 2017-02-10 11:21:26.650               65                        0   \n",
       "2 2011-12-12 10:43:52.940               48                        6   \n",
       "3 2014-10-14 23:12:53.420               57                        3   \n",
       "4 2012-07-23 15:02:12.640               48                        5   \n",
       "\n",
       "   CategoryID   Class  Resistant IsAllergic VitalityDays  CategoryName  \\\n",
       "0           1    High    Unknown    Unknown           41   Confections   \n",
       "1           8     Low    Durable      FALSE           90         Grain   \n",
       "2          11  Medium    Durable       TRUE            0       Produce   \n",
       "3           6    High    Durable       TRUE           90       Seafood   \n",
       "4           9     Low       Weak      FALSE            0       Poultry   \n",
       "\n",
       "  CityID_Customer  \n",
       "0              54  \n",
       "1              71  \n",
       "2               2  \n",
       "3              45  \n",
       "4              82  \n",
       "\n",
       "[5 rows x 29 columns]"
      ]
     },
     "execution_count": 102,
     "metadata": {},
     "output_type": "execute_result"
    }
   ],
   "source": [
    "df.head()"
   ]
  },
  {
   "cell_type": "markdown",
   "id": "7a1750ad",
   "metadata": {},
   "source": [
    "Transformacion de Features:"
   ]
  },
  {
   "cell_type": "markdown",
   "id": "28d35928",
   "metadata": {},
   "source": [
    "Optamos por enfocarnos en One-Hot Encoding para categorias con baja cardinalidad (<5) \n",
    "y Label Encoding para cardinalidad moderada..."
   ]
  },
  {
   "cell_type": "code",
   "execution_count": 103,
   "id": "2a4fcee1",
   "metadata": {},
   "outputs": [
    {
     "data": {
      "application/vnd.microsoft.datawrangler.viewer.v0+json": {
       "columns": [
        {
         "name": "index",
         "rawType": "int64",
         "type": "integer"
        },
        {
         "name": "SalesID",
         "rawType": "int64",
         "type": "integer"
        },
        {
         "name": "SalesPersonID",
         "rawType": "int64",
         "type": "integer"
        },
        {
         "name": "CustomerID",
         "rawType": "int64",
         "type": "integer"
        },
        {
         "name": "ProductID",
         "rawType": "int64",
         "type": "integer"
        },
        {
         "name": "Quantity",
         "rawType": "int64",
         "type": "integer"
        },
        {
         "name": "Discount",
         "rawType": "float64",
         "type": "float"
        },
        {
         "name": "TotalPrice",
         "rawType": "float64",
         "type": "float"
        },
        {
         "name": "SalesDate",
         "rawType": "datetime64[ns]",
         "type": "datetime"
        },
        {
         "name": "TransactionNumber",
         "rawType": "object",
         "type": "string"
        },
        {
         "name": "Price",
         "rawType": "float64",
         "type": "float"
        },
        {
         "name": "TotalPriceCalculated",
         "rawType": "float64",
         "type": "float"
        },
        {
         "name": "IsOutlier",
         "rawType": "int64",
         "type": "integer"
        },
        {
         "name": "hora",
         "rawType": "int32",
         "type": "integer"
        },
        {
         "name": "DayOfWeek",
         "rawType": "int64",
         "type": "integer"
        },
        {
         "name": "EsFinDeSemana",
         "rawType": "int64",
         "type": "integer"
        },
        {
         "name": "EmployeeID",
         "rawType": "int64",
         "type": "integer"
        },
        {
         "name": "BirthDate",
         "rawType": "datetime64[ns]",
         "type": "datetime"
        },
        {
         "name": "CityID",
         "rawType": "int64",
         "type": "integer"
        },
        {
         "name": "HireDate",
         "rawType": "datetime64[ns]",
         "type": "datetime"
        },
        {
         "name": "EdadAlContratar",
         "rawType": "int64",
         "type": "integer"
        },
        {
         "name": "AñosExperienciaAlVender",
         "rawType": "int64",
         "type": "integer"
        },
        {
         "name": "CategoryID",
         "rawType": "int64",
         "type": "integer"
        },
        {
         "name": "VitalityDays",
         "rawType": "int64",
         "type": "integer"
        },
        {
         "name": "CategoryName",
         "rawType": "int64",
         "type": "integer"
        },
        {
         "name": "CityID_Customer",
         "rawType": "int64",
         "type": "integer"
        },
        {
         "name": "Resistant_Unknown",
         "rawType": "bool",
         "type": "boolean"
        },
        {
         "name": "Resistant_Weak",
         "rawType": "bool",
         "type": "boolean"
        },
        {
         "name": "IsAllergic_TRUE",
         "rawType": "bool",
         "type": "boolean"
        },
        {
         "name": "IsAllergic_Unknown",
         "rawType": "bool",
         "type": "boolean"
        },
        {
         "name": "Gender_M",
         "rawType": "bool",
         "type": "boolean"
        },
        {
         "name": "Class_Low",
         "rawType": "bool",
         "type": "boolean"
        },
        {
         "name": "Class_Medium",
         "rawType": "bool",
         "type": "boolean"
        }
       ],
       "ref": "01a9a7ee-065b-4b0a-b07a-b3f88848ee55",
       "rows": [
        [
         "0",
         "1",
         "6",
         "27039",
         "381",
         "7",
         "0.0",
         "0.0",
         "2018-02-05 07:38:25.430000",
         "FQL4S94E4ME1EZFTG42G",
         "44.2337",
         "309.6359",
         "0",
         "7",
         "0",
         "0",
         "6",
         "1987-01-13 00:00:00",
         "65",
         "2013-06-22 13:20:18.080000",
         "26",
         "4",
         "1",
         "26",
         "2",
         "53",
         "True",
         "False",
         "False",
         "True",
         "True",
         "False",
         "False"
        ],
        [
         "1",
         "2",
         "16",
         "25011",
         "61",
         "7",
         "0.0",
         "0.0",
         "2018-02-02 16:03:31.150000",
         "12UGLX40DJ1A5DTFBHB8",
         "62.546",
         "437.822",
         "0",
         "16",
         "4",
         "0",
         "16",
         "1951-07-07 00:00:00",
         "28",
         "2017-02-10 11:21:26.650000",
         "65",
         "0",
         "8",
         "60",
         "4",
         "70",
         "False",
         "False",
         "False",
         "False",
         "True",
         "True",
         "False"
        ],
        [
         "2",
         "3",
         "13",
         "94024",
         "23",
         "24",
         "0.0",
         "0.0",
         "2018-05-03 19:31:56.880000",
         "5DT8RCPL87KI5EORO7B0",
         "79.0184",
         "1896.4416",
         "0",
         "19",
         "3",
         "0",
         "13",
         "1963-04-18 00:00:00",
         "68",
         "2011-12-12 10:43:52.940000",
         "48",
         "6",
         "11",
         "0",
         "7",
         "1",
         "False",
         "False",
         "True",
         "False",
         "True",
         "False",
         "True"
        ],
        [
         "3",
         "4",
         "8",
         "73966",
         "176",
         "19",
         "0.2",
         "0.0",
         "2018-04-07 14:43:55.420000",
         "R3DR9MLD5NR76VO17ULE",
         "81.3167",
         "1236.01384",
         "0",
         "14",
         "5",
         "1",
         "8",
         "1956-12-13 00:00:00",
         "18",
         "2014-10-14 23:12:53.420000",
         "57",
         "3",
         "6",
         "60",
         "8",
         "44",
         "False",
         "False",
         "True",
         "False",
         "True",
         "False",
         "False"
        ],
        [
         "4",
         "5",
         "10",
         "32653",
         "310",
         "9",
         "0.0",
         "0.0",
         "2018-02-12 15:37:03.940000",
         "4BGS0Z5OMAZ8NDAFHHP3",
         "79.978",
         "719.8019999999999",
         "0",
         "15",
         "0",
         "0",
         "10",
         "1963-12-30 00:00:00",
         "9",
         "2012-07-23 15:02:12.640000",
         "48",
         "5",
         "9",
         "0",
         "6",
         "81",
         "False",
         "True",
         "False",
         "False",
         "True",
         "True",
         "False"
        ]
       ],
       "shape": {
        "columns": 32,
        "rows": 5
       }
      },
      "text/html": [
       "<div>\n",
       "<style scoped>\n",
       "    .dataframe tbody tr th:only-of-type {\n",
       "        vertical-align: middle;\n",
       "    }\n",
       "\n",
       "    .dataframe tbody tr th {\n",
       "        vertical-align: top;\n",
       "    }\n",
       "\n",
       "    .dataframe thead th {\n",
       "        text-align: right;\n",
       "    }\n",
       "</style>\n",
       "<table border=\"1\" class=\"dataframe\">\n",
       "  <thead>\n",
       "    <tr style=\"text-align: right;\">\n",
       "      <th></th>\n",
       "      <th>SalesID</th>\n",
       "      <th>SalesPersonID</th>\n",
       "      <th>CustomerID</th>\n",
       "      <th>ProductID</th>\n",
       "      <th>Quantity</th>\n",
       "      <th>Discount</th>\n",
       "      <th>TotalPrice</th>\n",
       "      <th>SalesDate</th>\n",
       "      <th>TransactionNumber</th>\n",
       "      <th>Price</th>\n",
       "      <th>...</th>\n",
       "      <th>VitalityDays</th>\n",
       "      <th>CategoryName</th>\n",
       "      <th>CityID_Customer</th>\n",
       "      <th>Resistant_Unknown</th>\n",
       "      <th>Resistant_Weak</th>\n",
       "      <th>IsAllergic_TRUE</th>\n",
       "      <th>IsAllergic_Unknown</th>\n",
       "      <th>Gender_M</th>\n",
       "      <th>Class_Low</th>\n",
       "      <th>Class_Medium</th>\n",
       "    </tr>\n",
       "  </thead>\n",
       "  <tbody>\n",
       "    <tr>\n",
       "      <th>0</th>\n",
       "      <td>1</td>\n",
       "      <td>6</td>\n",
       "      <td>27039</td>\n",
       "      <td>381</td>\n",
       "      <td>7</td>\n",
       "      <td>0.0</td>\n",
       "      <td>0.0</td>\n",
       "      <td>2018-02-05 07:38:25.430</td>\n",
       "      <td>FQL4S94E4ME1EZFTG42G</td>\n",
       "      <td>44.2337</td>\n",
       "      <td>...</td>\n",
       "      <td>26</td>\n",
       "      <td>2</td>\n",
       "      <td>53</td>\n",
       "      <td>True</td>\n",
       "      <td>False</td>\n",
       "      <td>False</td>\n",
       "      <td>True</td>\n",
       "      <td>True</td>\n",
       "      <td>False</td>\n",
       "      <td>False</td>\n",
       "    </tr>\n",
       "    <tr>\n",
       "      <th>1</th>\n",
       "      <td>2</td>\n",
       "      <td>16</td>\n",
       "      <td>25011</td>\n",
       "      <td>61</td>\n",
       "      <td>7</td>\n",
       "      <td>0.0</td>\n",
       "      <td>0.0</td>\n",
       "      <td>2018-02-02 16:03:31.150</td>\n",
       "      <td>12UGLX40DJ1A5DTFBHB8</td>\n",
       "      <td>62.5460</td>\n",
       "      <td>...</td>\n",
       "      <td>60</td>\n",
       "      <td>4</td>\n",
       "      <td>70</td>\n",
       "      <td>False</td>\n",
       "      <td>False</td>\n",
       "      <td>False</td>\n",
       "      <td>False</td>\n",
       "      <td>True</td>\n",
       "      <td>True</td>\n",
       "      <td>False</td>\n",
       "    </tr>\n",
       "    <tr>\n",
       "      <th>2</th>\n",
       "      <td>3</td>\n",
       "      <td>13</td>\n",
       "      <td>94024</td>\n",
       "      <td>23</td>\n",
       "      <td>24</td>\n",
       "      <td>0.0</td>\n",
       "      <td>0.0</td>\n",
       "      <td>2018-05-03 19:31:56.880</td>\n",
       "      <td>5DT8RCPL87KI5EORO7B0</td>\n",
       "      <td>79.0184</td>\n",
       "      <td>...</td>\n",
       "      <td>0</td>\n",
       "      <td>7</td>\n",
       "      <td>1</td>\n",
       "      <td>False</td>\n",
       "      <td>False</td>\n",
       "      <td>True</td>\n",
       "      <td>False</td>\n",
       "      <td>True</td>\n",
       "      <td>False</td>\n",
       "      <td>True</td>\n",
       "    </tr>\n",
       "    <tr>\n",
       "      <th>3</th>\n",
       "      <td>4</td>\n",
       "      <td>8</td>\n",
       "      <td>73966</td>\n",
       "      <td>176</td>\n",
       "      <td>19</td>\n",
       "      <td>0.2</td>\n",
       "      <td>0.0</td>\n",
       "      <td>2018-04-07 14:43:55.420</td>\n",
       "      <td>R3DR9MLD5NR76VO17ULE</td>\n",
       "      <td>81.3167</td>\n",
       "      <td>...</td>\n",
       "      <td>60</td>\n",
       "      <td>8</td>\n",
       "      <td>44</td>\n",
       "      <td>False</td>\n",
       "      <td>False</td>\n",
       "      <td>True</td>\n",
       "      <td>False</td>\n",
       "      <td>True</td>\n",
       "      <td>False</td>\n",
       "      <td>False</td>\n",
       "    </tr>\n",
       "    <tr>\n",
       "      <th>4</th>\n",
       "      <td>5</td>\n",
       "      <td>10</td>\n",
       "      <td>32653</td>\n",
       "      <td>310</td>\n",
       "      <td>9</td>\n",
       "      <td>0.0</td>\n",
       "      <td>0.0</td>\n",
       "      <td>2018-02-12 15:37:03.940</td>\n",
       "      <td>4BGS0Z5OMAZ8NDAFHHP3</td>\n",
       "      <td>79.9780</td>\n",
       "      <td>...</td>\n",
       "      <td>0</td>\n",
       "      <td>6</td>\n",
       "      <td>81</td>\n",
       "      <td>False</td>\n",
       "      <td>True</td>\n",
       "      <td>False</td>\n",
       "      <td>False</td>\n",
       "      <td>True</td>\n",
       "      <td>True</td>\n",
       "      <td>False</td>\n",
       "    </tr>\n",
       "  </tbody>\n",
       "</table>\n",
       "<p>5 rows × 32 columns</p>\n",
       "</div>"
      ],
      "text/plain": [
       "   SalesID  SalesPersonID  CustomerID  ProductID  Quantity  Discount  \\\n",
       "0        1              6       27039        381         7       0.0   \n",
       "1        2             16       25011         61         7       0.0   \n",
       "2        3             13       94024         23        24       0.0   \n",
       "3        4              8       73966        176        19       0.2   \n",
       "4        5             10       32653        310         9       0.0   \n",
       "\n",
       "   TotalPrice               SalesDate     TransactionNumber    Price  ...  \\\n",
       "0         0.0 2018-02-05 07:38:25.430  FQL4S94E4ME1EZFTG42G  44.2337  ...   \n",
       "1         0.0 2018-02-02 16:03:31.150  12UGLX40DJ1A5DTFBHB8  62.5460  ...   \n",
       "2         0.0 2018-05-03 19:31:56.880  5DT8RCPL87KI5EORO7B0  79.0184  ...   \n",
       "3         0.0 2018-04-07 14:43:55.420  R3DR9MLD5NR76VO17ULE  81.3167  ...   \n",
       "4         0.0 2018-02-12 15:37:03.940  4BGS0Z5OMAZ8NDAFHHP3  79.9780  ...   \n",
       "\n",
       "   VitalityDays  CategoryName  CityID_Customer  Resistant_Unknown  \\\n",
       "0            26             2               53               True   \n",
       "1            60             4               70              False   \n",
       "2             0             7                1              False   \n",
       "3            60             8               44              False   \n",
       "4             0             6               81              False   \n",
       "\n",
       "   Resistant_Weak  IsAllergic_TRUE IsAllergic_Unknown  Gender_M Class_Low  \\\n",
       "0           False            False               True      True     False   \n",
       "1           False            False              False      True      True   \n",
       "2           False             True              False      True     False   \n",
       "3           False             True              False      True     False   \n",
       "4            True            False              False      True      True   \n",
       "\n",
       "   Class_Medium  \n",
       "0         False  \n",
       "1         False  \n",
       "2          True  \n",
       "3         False  \n",
       "4         False  \n",
       "\n",
       "[5 rows x 32 columns]"
      ]
     },
     "execution_count": 103,
     "metadata": {},
     "output_type": "execute_result"
    }
   ],
   "source": [
    "from sklearn.preprocessing import LabelEncoder\n",
    "\n",
    "\n",
    "# Label Encoding para variables con moderada cardinalidad\n",
    "label_cols = [\"CategoryName\" ,\"CityID_Customer\",\"VitalityDays\"]\n",
    "label_encoders = {}\n",
    "\n",
    "for col in label_cols:\n",
    "    le = LabelEncoder()\n",
    "    df[col] = le.fit_transform(df[col])\n",
    "    label_encoders[col] = le\n",
    "\n",
    "# One-Hot Encoding para variables categoricas con baja cardinalidad\n",
    "one_hot_cols = [\"Resistant\",\"IsAllergic\",\"Gender\",\"Class\"] # -> No tiene mucho sentido un one-hot para la columna \"CategoryName\"\n",
    "df = pd.get_dummies(df, columns=one_hot_cols, drop_first=True) # -> creo drop_first=True elimina la columna original\n",
    "df.head()\n"
   ]
  }
 ],
 "metadata": {
  "kernelspec": {
   "display_name": "Python 3",
   "language": "python",
   "name": "python3"
  },
  "language_info": {
   "codemirror_mode": {
    "name": "ipython",
    "version": 3
   },
   "file_extension": ".py",
   "mimetype": "text/x-python",
   "name": "python",
   "nbconvert_exporter": "python",
   "pygments_lexer": "ipython3",
   "version": "3.13.0"
  }
 },
 "nbformat": 4,
 "nbformat_minor": 5
}
